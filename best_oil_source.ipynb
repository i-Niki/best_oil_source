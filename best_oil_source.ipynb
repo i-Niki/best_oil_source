{
 "cells": [
  {
   "cell_type": "markdown",
   "metadata": {
    "toc": true
   },
   "source": [
    "<h1>Содержание<span class=\"tocSkip\"></span></h1>\n",
    "<div class=\"toc\"><ul class=\"toc-item\"><li><ul class=\"toc-item\"><li><span><a href=\"#Общее-впечатление\" data-toc-modified-id=\"Общее-впечатление-0.1\"><span class=\"toc-item-num\">0.1&nbsp;&nbsp;</span><font color=\"orange\">Общее впечатление</font></a></span></li><li><span><a href=\"#Общее-впечатление-(ревью-2)\" data-toc-modified-id=\"Общее-впечатление-(ревью-2)-0.2\"><span class=\"toc-item-num\">0.2&nbsp;&nbsp;</span><font color=\"orange\">Общее впечатление (ревью 2)</font></a></span></li></ul></li><li><span><a href=\"#Загрузка-и-подготовка-данных\" data-toc-modified-id=\"Загрузка-и-подготовка-данных-1\"><span class=\"toc-item-num\">1&nbsp;&nbsp;</span>Загрузка и подготовка данных</a></span></li><li><span><a href=\"#Обучение-и-проверка-модели\" data-toc-modified-id=\"Обучение-и-проверка-модели-2\"><span class=\"toc-item-num\">2&nbsp;&nbsp;</span>Обучение и проверка модели</a></span></li><li><span><a href=\"#Подготовка-к-расчёту-прибыли\" data-toc-modified-id=\"Подготовка-к-расчёту-прибыли-3\"><span class=\"toc-item-num\">3&nbsp;&nbsp;</span>Подготовка к расчёту прибыли</a></span><ul class=\"toc-item\"><li><span><a href=\"#Вывод\" data-toc-modified-id=\"Вывод-3.1\"><span class=\"toc-item-num\">3.1&nbsp;&nbsp;</span>Вывод</a></span></li></ul></li><li><span><a href=\"#Функция-для-расчёта-прибыли-по-выбранным-скважинам-и-предсказаниям-модели\" data-toc-modified-id=\"Функция-для-расчёта-прибыли-по-выбранным-скважинам-и-предсказаниям-модели-4\"><span class=\"toc-item-num\">4&nbsp;&nbsp;</span>Функция для расчёта прибыли по выбранным скважинам и предсказаниям модели</a></span></li><li><span><a href=\"#Расчёт-прибыли-и-рисков\" data-toc-modified-id=\"Расчёт-прибыли-и-рисков-5\"><span class=\"toc-item-num\">5&nbsp;&nbsp;</span>Расчёт прибыли и рисков</a></span><ul class=\"toc-item\"><li><span><a href=\"#Вывод\" data-toc-modified-id=\"Вывод-5.1\"><span class=\"toc-item-num\">5.1&nbsp;&nbsp;</span>Вывод</a></span></li></ul></li><li><span><a href=\"#Вывод\" data-toc-modified-id=\"Вывод-6\"><span class=\"toc-item-num\">6&nbsp;&nbsp;</span>Вывод</a></span></li><li><span><a href=\"#Чек-лист-готовности-проекта\" data-toc-modified-id=\"Чек-лист-готовности-проекта-7\"><span class=\"toc-item-num\">7&nbsp;&nbsp;</span>Чек-лист готовности проекта</a></span></li></ul></div>"
   ]
  },
  {
   "cell_type": "markdown",
   "metadata": {},
   "source": [
    "# Выбор локации для скважины"
   ]
  },
  {
   "cell_type": "markdown",
   "metadata": {},
   "source": [
    "Допустим, вы работаете в добывающей компании «ГлавРосГосНефть». Нужно решить, где бурить новую скважину.\n",
    "\n",
    "Вам предоставлены пробы нефти в трёх регионах: в каждом 10 000 месторождений, где измерили качество нефти и объём её запасов. Постройте модель машинного обучения, которая поможет определить регион, где добыча принесёт наибольшую прибыль. Проанализируйте возможную прибыль и риски техникой *Bootstrap.*\n",
    "\n",
    "Шаги для выбора локации:\n",
    "\n",
    "- В избранном регионе ищут месторождения, для каждого определяют значения признаков;\n",
    "- Строят модель и оценивают объём запасов;\n",
    "- Выбирают месторождения с самым высокими оценками значений. Количество месторождений зависит от бюджета компании и стоимости разработки одной скважины;\n",
    "- Прибыль равна суммарной прибыли отобранных месторождений."
   ]
  },
  {
   "cell_type": "markdown",
   "metadata": {},
   "source": [
    "## Загрузка и подготовка данных"
   ]
  },
  {
   "cell_type": "code",
   "execution_count": 8,
   "metadata": {},
   "outputs": [],
   "source": [
    "import pandas as pd \n",
    "import numpy as np\n",
    "from sklearn.linear_model import LinearRegression\n",
    "from sklearn.model_selection import train_test_split\n",
    "from sklearn.metrics import mean_squared_error\n",
    "from sklearn.preprocessing import StandardScaler"
   ]
  },
  {
   "cell_type": "code",
   "execution_count": 9,
   "metadata": {},
   "outputs": [
    {
     "data": {
      "text/html": [
       "<div>\n",
       "<style scoped>\n",
       "    .dataframe tbody tr th:only-of-type {\n",
       "        vertical-align: middle;\n",
       "    }\n",
       "\n",
       "    .dataframe tbody tr th {\n",
       "        vertical-align: top;\n",
       "    }\n",
       "\n",
       "    .dataframe thead th {\n",
       "        text-align: right;\n",
       "    }\n",
       "</style>\n",
       "<table border=\"1\" class=\"dataframe\">\n",
       "  <thead>\n",
       "    <tr style=\"text-align: right;\">\n",
       "      <th></th>\n",
       "      <th>id</th>\n",
       "      <th>f0</th>\n",
       "      <th>f1</th>\n",
       "      <th>f2</th>\n",
       "      <th>product</th>\n",
       "    </tr>\n",
       "  </thead>\n",
       "  <tbody>\n",
       "    <tr>\n",
       "      <td>0</td>\n",
       "      <td>kBEdx</td>\n",
       "      <td>-15.001348</td>\n",
       "      <td>-8.276000</td>\n",
       "      <td>-0.005876</td>\n",
       "      <td>3.179103</td>\n",
       "    </tr>\n",
       "    <tr>\n",
       "      <td>1</td>\n",
       "      <td>62mP7</td>\n",
       "      <td>14.272088</td>\n",
       "      <td>-3.475083</td>\n",
       "      <td>0.999183</td>\n",
       "      <td>26.953261</td>\n",
       "    </tr>\n",
       "    <tr>\n",
       "      <td>2</td>\n",
       "      <td>vyE1P</td>\n",
       "      <td>6.263187</td>\n",
       "      <td>-5.948386</td>\n",
       "      <td>5.001160</td>\n",
       "      <td>134.766305</td>\n",
       "    </tr>\n",
       "    <tr>\n",
       "      <td>3</td>\n",
       "      <td>KcrkZ</td>\n",
       "      <td>-13.081196</td>\n",
       "      <td>-11.506057</td>\n",
       "      <td>4.999415</td>\n",
       "      <td>137.945408</td>\n",
       "    </tr>\n",
       "    <tr>\n",
       "      <td>4</td>\n",
       "      <td>AHL4O</td>\n",
       "      <td>12.702195</td>\n",
       "      <td>-8.147433</td>\n",
       "      <td>5.004363</td>\n",
       "      <td>134.766305</td>\n",
       "    </tr>\n",
       "  </tbody>\n",
       "</table>\n",
       "</div>"
      ],
      "text/plain": [
       "      id         f0         f1        f2     product\n",
       "0  kBEdx -15.001348  -8.276000 -0.005876    3.179103\n",
       "1  62mP7  14.272088  -3.475083  0.999183   26.953261\n",
       "2  vyE1P   6.263187  -5.948386  5.001160  134.766305\n",
       "3  KcrkZ -13.081196 -11.506057  4.999415  137.945408\n",
       "4  AHL4O  12.702195  -8.147433  5.004363  134.766305"
      ]
     },
     "metadata": {},
     "output_type": "display_data"
    }
   ],
   "source": [
    "data_1 = pd.read_csv(r'C:\\\\Users\\\\vasni\\\\for git\\\\geo_data_1.csv')\n",
    "display(data_1.head())"
   ]
  },
  {
   "cell_type": "code",
   "execution_count": 10,
   "metadata": {},
   "outputs": [
    {
     "data": {
      "text/html": [
       "<div>\n",
       "<style scoped>\n",
       "    .dataframe tbody tr th:only-of-type {\n",
       "        vertical-align: middle;\n",
       "    }\n",
       "\n",
       "    .dataframe tbody tr th {\n",
       "        vertical-align: top;\n",
       "    }\n",
       "\n",
       "    .dataframe thead th {\n",
       "        text-align: right;\n",
       "    }\n",
       "</style>\n",
       "<table border=\"1\" class=\"dataframe\">\n",
       "  <thead>\n",
       "    <tr style=\"text-align: right;\">\n",
       "      <th></th>\n",
       "      <th>id</th>\n",
       "      <th>f0</th>\n",
       "      <th>f1</th>\n",
       "      <th>f2</th>\n",
       "      <th>product</th>\n",
       "    </tr>\n",
       "  </thead>\n",
       "  <tbody>\n",
       "    <tr>\n",
       "      <td>75721</td>\n",
       "      <td>7C6bA</td>\n",
       "      <td>0.599283</td>\n",
       "      <td>-0.557623</td>\n",
       "      <td>2.121187</td>\n",
       "      <td>122.073350</td>\n",
       "    </tr>\n",
       "    <tr>\n",
       "      <td>80184</td>\n",
       "      <td>dVxsn</td>\n",
       "      <td>0.739017</td>\n",
       "      <td>-0.463156</td>\n",
       "      <td>-1.347584</td>\n",
       "      <td>48.738540</td>\n",
       "    </tr>\n",
       "    <tr>\n",
       "      <td>19864</td>\n",
       "      <td>1Gm3l</td>\n",
       "      <td>1.422743</td>\n",
       "      <td>-0.534917</td>\n",
       "      <td>3.718798</td>\n",
       "      <td>131.338088</td>\n",
       "    </tr>\n",
       "    <tr>\n",
       "      <td>76699</td>\n",
       "      <td>Nzg1t</td>\n",
       "      <td>1.580244</td>\n",
       "      <td>-0.238458</td>\n",
       "      <td>2.805149</td>\n",
       "      <td>88.327757</td>\n",
       "    </tr>\n",
       "    <tr>\n",
       "      <td>92991</td>\n",
       "      <td>Z7b4F</td>\n",
       "      <td>0.918974</td>\n",
       "      <td>0.023961</td>\n",
       "      <td>2.598575</td>\n",
       "      <td>36.959266</td>\n",
       "    </tr>\n",
       "  </tbody>\n",
       "</table>\n",
       "</div>"
      ],
      "text/plain": [
       "          id        f0        f1        f2     product\n",
       "75721  7C6bA  0.599283 -0.557623  2.121187  122.073350\n",
       "80184  dVxsn  0.739017 -0.463156 -1.347584   48.738540\n",
       "19864  1Gm3l  1.422743 -0.534917  3.718798  131.338088\n",
       "76699  Nzg1t  1.580244 -0.238458  2.805149   88.327757\n",
       "92991  Z7b4F  0.918974  0.023961  2.598575   36.959266"
      ]
     },
     "metadata": {},
     "output_type": "display_data"
    },
    {
     "data": {
      "text/plain": [
       "id         0.0\n",
       "f0         0.0\n",
       "f1         0.0\n",
       "f2         0.0\n",
       "product    0.0\n",
       "dtype: float64"
      ]
     },
     "metadata": {},
     "output_type": "display_data"
    },
    {
     "data": {
      "text/plain": [
       "(100000, 5)"
      ]
     },
     "metadata": {},
     "output_type": "display_data"
    },
    {
     "name": "stdout",
     "output_type": "stream",
     "text": [
      "<class 'pandas.core.frame.DataFrame'>\n",
      "RangeIndex: 100000 entries, 0 to 99999\n",
      "Data columns (total 5 columns):\n",
      "id         100000 non-null object\n",
      "f0         100000 non-null float64\n",
      "f1         100000 non-null float64\n",
      "f2         100000 non-null float64\n",
      "product    100000 non-null float64\n",
      "dtypes: float64(4), object(1)\n",
      "memory usage: 3.8+ MB\n"
     ]
    },
    {
     "data": {
      "text/plain": [
       "None"
      ]
     },
     "metadata": {},
     "output_type": "display_data"
    },
    {
     "data": {
      "text/html": [
       "<div>\n",
       "<style scoped>\n",
       "    .dataframe tbody tr th:only-of-type {\n",
       "        vertical-align: middle;\n",
       "    }\n",
       "\n",
       "    .dataframe tbody tr th {\n",
       "        vertical-align: top;\n",
       "    }\n",
       "\n",
       "    .dataframe thead th {\n",
       "        text-align: right;\n",
       "    }\n",
       "</style>\n",
       "<table border=\"1\" class=\"dataframe\">\n",
       "  <thead>\n",
       "    <tr style=\"text-align: right;\">\n",
       "      <th></th>\n",
       "      <th>f0</th>\n",
       "      <th>f1</th>\n",
       "      <th>f2</th>\n",
       "      <th>product</th>\n",
       "    </tr>\n",
       "  </thead>\n",
       "  <tbody>\n",
       "    <tr>\n",
       "      <td>count</td>\n",
       "      <td>100000.000000</td>\n",
       "      <td>100000.000000</td>\n",
       "      <td>100000.000000</td>\n",
       "      <td>100000.000000</td>\n",
       "    </tr>\n",
       "    <tr>\n",
       "      <td>mean</td>\n",
       "      <td>0.500419</td>\n",
       "      <td>0.250143</td>\n",
       "      <td>2.502647</td>\n",
       "      <td>92.500000</td>\n",
       "    </tr>\n",
       "    <tr>\n",
       "      <td>std</td>\n",
       "      <td>0.871832</td>\n",
       "      <td>0.504433</td>\n",
       "      <td>3.248248</td>\n",
       "      <td>44.288691</td>\n",
       "    </tr>\n",
       "    <tr>\n",
       "      <td>min</td>\n",
       "      <td>-1.408605</td>\n",
       "      <td>-0.848218</td>\n",
       "      <td>-12.088328</td>\n",
       "      <td>0.000000</td>\n",
       "    </tr>\n",
       "    <tr>\n",
       "      <td>25%</td>\n",
       "      <td>-0.072580</td>\n",
       "      <td>-0.200881</td>\n",
       "      <td>0.287748</td>\n",
       "      <td>56.497507</td>\n",
       "    </tr>\n",
       "    <tr>\n",
       "      <td>50%</td>\n",
       "      <td>0.502360</td>\n",
       "      <td>0.250252</td>\n",
       "      <td>2.515969</td>\n",
       "      <td>91.849972</td>\n",
       "    </tr>\n",
       "    <tr>\n",
       "      <td>75%</td>\n",
       "      <td>1.073581</td>\n",
       "      <td>0.700646</td>\n",
       "      <td>4.715088</td>\n",
       "      <td>128.564089</td>\n",
       "    </tr>\n",
       "    <tr>\n",
       "      <td>max</td>\n",
       "      <td>2.362331</td>\n",
       "      <td>1.343769</td>\n",
       "      <td>16.003790</td>\n",
       "      <td>185.364347</td>\n",
       "    </tr>\n",
       "  </tbody>\n",
       "</table>\n",
       "</div>"
      ],
      "text/plain": [
       "                  f0             f1             f2        product\n",
       "count  100000.000000  100000.000000  100000.000000  100000.000000\n",
       "mean        0.500419       0.250143       2.502647      92.500000\n",
       "std         0.871832       0.504433       3.248248      44.288691\n",
       "min        -1.408605      -0.848218     -12.088328       0.000000\n",
       "25%        -0.072580      -0.200881       0.287748      56.497507\n",
       "50%         0.502360       0.250252       2.515969      91.849972\n",
       "75%         1.073581       0.700646       4.715088     128.564089\n",
       "max         2.362331       1.343769      16.003790     185.364347"
      ]
     },
     "metadata": {},
     "output_type": "display_data"
    },
    {
     "data": {
      "text/html": [
       "<div>\n",
       "<style scoped>\n",
       "    .dataframe tbody tr th:only-of-type {\n",
       "        vertical-align: middle;\n",
       "    }\n",
       "\n",
       "    .dataframe tbody tr th {\n",
       "        vertical-align: top;\n",
       "    }\n",
       "\n",
       "    .dataframe thead th {\n",
       "        text-align: right;\n",
       "    }\n",
       "</style>\n",
       "<table border=\"1\" class=\"dataframe\">\n",
       "  <thead>\n",
       "    <tr style=\"text-align: right;\">\n",
       "      <th></th>\n",
       "      <th>id</th>\n",
       "      <th>f0</th>\n",
       "      <th>f1</th>\n",
       "      <th>f2</th>\n",
       "      <th>product</th>\n",
       "    </tr>\n",
       "  </thead>\n",
       "  <tbody>\n",
       "    <tr>\n",
       "      <td>75721</td>\n",
       "      <td>fYVDK</td>\n",
       "      <td>6.078076</td>\n",
       "      <td>0.084568</td>\n",
       "      <td>0.002957</td>\n",
       "      <td>0.000000</td>\n",
       "    </tr>\n",
       "    <tr>\n",
       "      <td>80184</td>\n",
       "      <td>3SQcq</td>\n",
       "      <td>16.462386</td>\n",
       "      <td>2.712946</td>\n",
       "      <td>1.993030</td>\n",
       "      <td>53.906522</td>\n",
       "    </tr>\n",
       "    <tr>\n",
       "      <td>19864</td>\n",
       "      <td>hQ1gJ</td>\n",
       "      <td>7.051898</td>\n",
       "      <td>0.766983</td>\n",
       "      <td>4.990194</td>\n",
       "      <td>134.766305</td>\n",
       "    </tr>\n",
       "    <tr>\n",
       "      <td>76699</td>\n",
       "      <td>Y4vux</td>\n",
       "      <td>-0.240045</td>\n",
       "      <td>-0.380804</td>\n",
       "      <td>3.999693</td>\n",
       "      <td>107.813044</td>\n",
       "    </tr>\n",
       "    <tr>\n",
       "      <td>92991</td>\n",
       "      <td>H1NUw</td>\n",
       "      <td>13.350111</td>\n",
       "      <td>-8.558281</td>\n",
       "      <td>0.002010</td>\n",
       "      <td>0.000000</td>\n",
       "    </tr>\n",
       "  </tbody>\n",
       "</table>\n",
       "</div>"
      ],
      "text/plain": [
       "          id         f0        f1        f2     product\n",
       "75721  fYVDK   6.078076  0.084568  0.002957    0.000000\n",
       "80184  3SQcq  16.462386  2.712946  1.993030   53.906522\n",
       "19864  hQ1gJ   7.051898  0.766983  4.990194  134.766305\n",
       "76699  Y4vux  -0.240045 -0.380804  3.999693  107.813044\n",
       "92991  H1NUw  13.350111 -8.558281  0.002010    0.000000"
      ]
     },
     "metadata": {},
     "output_type": "display_data"
    },
    {
     "data": {
      "text/plain": [
       "id         0.0\n",
       "f0         0.0\n",
       "f1         0.0\n",
       "f2         0.0\n",
       "product    0.0\n",
       "dtype: float64"
      ]
     },
     "metadata": {},
     "output_type": "display_data"
    },
    {
     "data": {
      "text/plain": [
       "(100000, 5)"
      ]
     },
     "metadata": {},
     "output_type": "display_data"
    },
    {
     "name": "stdout",
     "output_type": "stream",
     "text": [
      "<class 'pandas.core.frame.DataFrame'>\n",
      "RangeIndex: 100000 entries, 0 to 99999\n",
      "Data columns (total 5 columns):\n",
      "id         100000 non-null object\n",
      "f0         100000 non-null float64\n",
      "f1         100000 non-null float64\n",
      "f2         100000 non-null float64\n",
      "product    100000 non-null float64\n",
      "dtypes: float64(4), object(1)\n",
      "memory usage: 3.8+ MB\n"
     ]
    },
    {
     "data": {
      "text/plain": [
       "None"
      ]
     },
     "metadata": {},
     "output_type": "display_data"
    },
    {
     "data": {
      "text/html": [
       "<div>\n",
       "<style scoped>\n",
       "    .dataframe tbody tr th:only-of-type {\n",
       "        vertical-align: middle;\n",
       "    }\n",
       "\n",
       "    .dataframe tbody tr th {\n",
       "        vertical-align: top;\n",
       "    }\n",
       "\n",
       "    .dataframe thead th {\n",
       "        text-align: right;\n",
       "    }\n",
       "</style>\n",
       "<table border=\"1\" class=\"dataframe\">\n",
       "  <thead>\n",
       "    <tr style=\"text-align: right;\">\n",
       "      <th></th>\n",
       "      <th>f0</th>\n",
       "      <th>f1</th>\n",
       "      <th>f2</th>\n",
       "      <th>product</th>\n",
       "    </tr>\n",
       "  </thead>\n",
       "  <tbody>\n",
       "    <tr>\n",
       "      <td>count</td>\n",
       "      <td>100000.000000</td>\n",
       "      <td>100000.000000</td>\n",
       "      <td>100000.000000</td>\n",
       "      <td>100000.000000</td>\n",
       "    </tr>\n",
       "    <tr>\n",
       "      <td>mean</td>\n",
       "      <td>1.141296</td>\n",
       "      <td>-4.796579</td>\n",
       "      <td>2.494541</td>\n",
       "      <td>68.825000</td>\n",
       "    </tr>\n",
       "    <tr>\n",
       "      <td>std</td>\n",
       "      <td>8.965932</td>\n",
       "      <td>5.119872</td>\n",
       "      <td>1.703572</td>\n",
       "      <td>45.944423</td>\n",
       "    </tr>\n",
       "    <tr>\n",
       "      <td>min</td>\n",
       "      <td>-31.609576</td>\n",
       "      <td>-26.358598</td>\n",
       "      <td>-0.018144</td>\n",
       "      <td>0.000000</td>\n",
       "    </tr>\n",
       "    <tr>\n",
       "      <td>25%</td>\n",
       "      <td>-6.298551</td>\n",
       "      <td>-8.267985</td>\n",
       "      <td>1.000021</td>\n",
       "      <td>26.953261</td>\n",
       "    </tr>\n",
       "    <tr>\n",
       "      <td>50%</td>\n",
       "      <td>1.153055</td>\n",
       "      <td>-4.813172</td>\n",
       "      <td>2.011479</td>\n",
       "      <td>57.085625</td>\n",
       "    </tr>\n",
       "    <tr>\n",
       "      <td>75%</td>\n",
       "      <td>8.621015</td>\n",
       "      <td>-1.332816</td>\n",
       "      <td>3.999904</td>\n",
       "      <td>107.813044</td>\n",
       "    </tr>\n",
       "    <tr>\n",
       "      <td>max</td>\n",
       "      <td>29.421755</td>\n",
       "      <td>18.734063</td>\n",
       "      <td>5.019721</td>\n",
       "      <td>137.945408</td>\n",
       "    </tr>\n",
       "  </tbody>\n",
       "</table>\n",
       "</div>"
      ],
      "text/plain": [
       "                  f0             f1             f2        product\n",
       "count  100000.000000  100000.000000  100000.000000  100000.000000\n",
       "mean        1.141296      -4.796579       2.494541      68.825000\n",
       "std         8.965932       5.119872       1.703572      45.944423\n",
       "min       -31.609576     -26.358598      -0.018144       0.000000\n",
       "25%        -6.298551      -8.267985       1.000021      26.953261\n",
       "50%         1.153055      -4.813172       2.011479      57.085625\n",
       "75%         8.621015      -1.332816       3.999904     107.813044\n",
       "max        29.421755      18.734063       5.019721     137.945408"
      ]
     },
     "metadata": {},
     "output_type": "display_data"
    },
    {
     "data": {
      "text/html": [
       "<div>\n",
       "<style scoped>\n",
       "    .dataframe tbody tr th:only-of-type {\n",
       "        vertical-align: middle;\n",
       "    }\n",
       "\n",
       "    .dataframe tbody tr th {\n",
       "        vertical-align: top;\n",
       "    }\n",
       "\n",
       "    .dataframe thead th {\n",
       "        text-align: right;\n",
       "    }\n",
       "</style>\n",
       "<table border=\"1\" class=\"dataframe\">\n",
       "  <thead>\n",
       "    <tr style=\"text-align: right;\">\n",
       "      <th></th>\n",
       "      <th>id</th>\n",
       "      <th>f0</th>\n",
       "      <th>f1</th>\n",
       "      <th>f2</th>\n",
       "      <th>product</th>\n",
       "    </tr>\n",
       "  </thead>\n",
       "  <tbody>\n",
       "    <tr>\n",
       "      <td>75721</td>\n",
       "      <td>sPjbT</td>\n",
       "      <td>2.111118</td>\n",
       "      <td>-1.679773</td>\n",
       "      <td>3.112240</td>\n",
       "      <td>117.441301</td>\n",
       "    </tr>\n",
       "    <tr>\n",
       "      <td>80184</td>\n",
       "      <td>1u4uo</td>\n",
       "      <td>0.734759</td>\n",
       "      <td>0.747788</td>\n",
       "      <td>3.670879</td>\n",
       "      <td>47.841249</td>\n",
       "    </tr>\n",
       "    <tr>\n",
       "      <td>19864</td>\n",
       "      <td>kZ6HO</td>\n",
       "      <td>-2.513109</td>\n",
       "      <td>0.844631</td>\n",
       "      <td>-4.922889</td>\n",
       "      <td>45.883483</td>\n",
       "    </tr>\n",
       "    <tr>\n",
       "      <td>76699</td>\n",
       "      <td>gCZGK</td>\n",
       "      <td>-2.035301</td>\n",
       "      <td>-1.522988</td>\n",
       "      <td>5.072839</td>\n",
       "      <td>139.014608</td>\n",
       "    </tr>\n",
       "    <tr>\n",
       "      <td>92991</td>\n",
       "      <td>rqJHx</td>\n",
       "      <td>2.744145</td>\n",
       "      <td>1.429952</td>\n",
       "      <td>-1.372661</td>\n",
       "      <td>84.004276</td>\n",
       "    </tr>\n",
       "  </tbody>\n",
       "</table>\n",
       "</div>"
      ],
      "text/plain": [
       "          id        f0        f1        f2     product\n",
       "75721  sPjbT  2.111118 -1.679773  3.112240  117.441301\n",
       "80184  1u4uo  0.734759  0.747788  3.670879   47.841249\n",
       "19864  kZ6HO -2.513109  0.844631 -4.922889   45.883483\n",
       "76699  gCZGK -2.035301 -1.522988  5.072839  139.014608\n",
       "92991  rqJHx  2.744145  1.429952 -1.372661   84.004276"
      ]
     },
     "metadata": {},
     "output_type": "display_data"
    },
    {
     "data": {
      "text/plain": [
       "id         0.0\n",
       "f0         0.0\n",
       "f1         0.0\n",
       "f2         0.0\n",
       "product    0.0\n",
       "dtype: float64"
      ]
     },
     "metadata": {},
     "output_type": "display_data"
    },
    {
     "data": {
      "text/plain": [
       "(100000, 5)"
      ]
     },
     "metadata": {},
     "output_type": "display_data"
    },
    {
     "name": "stdout",
     "output_type": "stream",
     "text": [
      "<class 'pandas.core.frame.DataFrame'>\n",
      "RangeIndex: 100000 entries, 0 to 99999\n",
      "Data columns (total 5 columns):\n",
      "id         100000 non-null object\n",
      "f0         100000 non-null float64\n",
      "f1         100000 non-null float64\n",
      "f2         100000 non-null float64\n",
      "product    100000 non-null float64\n",
      "dtypes: float64(4), object(1)\n",
      "memory usage: 3.8+ MB\n"
     ]
    },
    {
     "data": {
      "text/plain": [
       "None"
      ]
     },
     "metadata": {},
     "output_type": "display_data"
    },
    {
     "data": {
      "text/html": [
       "<div>\n",
       "<style scoped>\n",
       "    .dataframe tbody tr th:only-of-type {\n",
       "        vertical-align: middle;\n",
       "    }\n",
       "\n",
       "    .dataframe tbody tr th {\n",
       "        vertical-align: top;\n",
       "    }\n",
       "\n",
       "    .dataframe thead th {\n",
       "        text-align: right;\n",
       "    }\n",
       "</style>\n",
       "<table border=\"1\" class=\"dataframe\">\n",
       "  <thead>\n",
       "    <tr style=\"text-align: right;\">\n",
       "      <th></th>\n",
       "      <th>f0</th>\n",
       "      <th>f1</th>\n",
       "      <th>f2</th>\n",
       "      <th>product</th>\n",
       "    </tr>\n",
       "  </thead>\n",
       "  <tbody>\n",
       "    <tr>\n",
       "      <td>count</td>\n",
       "      <td>100000.000000</td>\n",
       "      <td>100000.000000</td>\n",
       "      <td>100000.000000</td>\n",
       "      <td>100000.000000</td>\n",
       "    </tr>\n",
       "    <tr>\n",
       "      <td>mean</td>\n",
       "      <td>0.002023</td>\n",
       "      <td>-0.002081</td>\n",
       "      <td>2.495128</td>\n",
       "      <td>95.000000</td>\n",
       "    </tr>\n",
       "    <tr>\n",
       "      <td>std</td>\n",
       "      <td>1.732045</td>\n",
       "      <td>1.730417</td>\n",
       "      <td>3.473445</td>\n",
       "      <td>44.749921</td>\n",
       "    </tr>\n",
       "    <tr>\n",
       "      <td>min</td>\n",
       "      <td>-8.760004</td>\n",
       "      <td>-7.084020</td>\n",
       "      <td>-11.970335</td>\n",
       "      <td>0.000000</td>\n",
       "    </tr>\n",
       "    <tr>\n",
       "      <td>25%</td>\n",
       "      <td>-1.162288</td>\n",
       "      <td>-1.174820</td>\n",
       "      <td>0.130359</td>\n",
       "      <td>59.450441</td>\n",
       "    </tr>\n",
       "    <tr>\n",
       "      <td>50%</td>\n",
       "      <td>0.009424</td>\n",
       "      <td>-0.009482</td>\n",
       "      <td>2.484236</td>\n",
       "      <td>94.925613</td>\n",
       "    </tr>\n",
       "    <tr>\n",
       "      <td>75%</td>\n",
       "      <td>1.158535</td>\n",
       "      <td>1.163678</td>\n",
       "      <td>4.858794</td>\n",
       "      <td>130.595027</td>\n",
       "    </tr>\n",
       "    <tr>\n",
       "      <td>max</td>\n",
       "      <td>7.238262</td>\n",
       "      <td>7.844801</td>\n",
       "      <td>16.739402</td>\n",
       "      <td>190.029838</td>\n",
       "    </tr>\n",
       "  </tbody>\n",
       "</table>\n",
       "</div>"
      ],
      "text/plain": [
       "                  f0             f1             f2        product\n",
       "count  100000.000000  100000.000000  100000.000000  100000.000000\n",
       "mean        0.002023      -0.002081       2.495128      95.000000\n",
       "std         1.732045       1.730417       3.473445      44.749921\n",
       "min        -8.760004      -7.084020     -11.970335       0.000000\n",
       "25%        -1.162288      -1.174820       0.130359      59.450441\n",
       "50%         0.009424      -0.009482       2.484236      94.925613\n",
       "75%         1.158535       1.163678       4.858794     130.595027\n",
       "max         7.238262       7.844801      16.739402     190.029838"
      ]
     },
     "metadata": {},
     "output_type": "display_data"
    }
   ],
   "source": [
    "data = {}\n",
    "for i in range(3):\n",
    "    data[f'{i+1}_region'] = pd.read_csv(f'C:\\\\Users\\\\vasni\\\\for git\\\\geo_data_{i}.csv')\n",
    "    display(data[f'{i+1}_region'].sample(n=5, random_state = 42))\n",
    "    display(data[f'{i+1}_region'].isna().mean())\n",
    "    #display(data[f'{i}_region'].nunique())\n",
    "    display(data[f'{i+1}_region'].shape)\n",
    "    display(data[f'{i+1}_region'].info())\n",
    "    display(data[f'{i+1}_region'].describe())"
   ]
  },
  {
   "cell_type": "markdown",
   "metadata": {},
   "source": [
    "<div class=\"alert alert-info\">\n",
    "<h1>Комментарий студента <a class=\"tocSkip\"></a></h1>\n",
    "Тип данных везде корректный. Пропущенных значений нет.Названия столбцов в одном регистре. Видно, что стандартное отлонение разнится по признакам и по дататестам, и нет четкой закономерности, например - в первом это f1 = .05, f2 =3.2, а в втором f1 = 5.11, f2 =1.7. \n",
    "\n",
    "Столбец \"id\" нам не нужен, можно удалить.\n",
    "</div>"
   ]
  },
  {
   "cell_type": "code",
   "execution_count": 11,
   "metadata": {},
   "outputs": [],
   "source": [
    "for i in data.keys():\n",
    "    data[i] = data[i].drop(axis = 1, columns = 'id')"
   ]
  },
  {
   "cell_type": "markdown",
   "metadata": {},
   "source": [
    "<div class=\"alert alert-info\">\n",
    "<h1>Комментарий студента <a class=\"tocSkip\"></a></h1>\n",
    "Данный дататест можно не проверять на мультиколлинеарность, так как все признаки имеют значение(по условию задачи) \n",
    "</div>"
   ]
  },
  {
   "cell_type": "markdown",
   "metadata": {},
   "source": [
    "## Обучение и проверка модели"
   ]
  },
  {
   "cell_type": "markdown",
   "metadata": {},
   "source": [
    "<div class=\"alert alert-info\">\n",
    "<h1>Комментарий студента <a class=\"tocSkip\"></a></h1>\n",
    "Разделим данные на признаки и целевой признак внутри словаря.\n",
    "</div>"
   ]
  },
  {
   "cell_type": "code",
   "execution_count": 12,
   "metadata": {},
   "outputs": [],
   "source": [
    "for i in list(data.keys()):\n",
    "    data[f'{i}_features'] = data[i][['f0', 'f1', 'f2']]\n",
    "    data[f'{i}_target'] = data[i]['product']"
   ]
  },
  {
   "cell_type": "code",
   "execution_count": 13,
   "metadata": {},
   "outputs": [
    {
     "data": {
      "text/plain": [
       "dict_keys(['1_region', '2_region', '3_region', '1_region_features', '1_region_target', '2_region_features', '2_region_target', '3_region_features', '3_region_target'])"
      ]
     },
     "execution_count": 13,
     "metadata": {},
     "output_type": "execute_result"
    }
   ],
   "source": [
    "data.keys()"
   ]
  },
  {
   "cell_type": "markdown",
   "metadata": {},
   "source": [
    "<div class=\"alert alert-info\">\n",
    "<h1>Комментарий студента <a class=\"tocSkip\"></a></h1>\n",
    "Разделим на обучающую и валидационную выборки.\n",
    "</div>"
   ]
  },
  {
   "cell_type": "code",
   "execution_count": 14,
   "metadata": {},
   "outputs": [],
   "source": [
    "region_1_features_train, region_1_features_valid, region_1_target_train, region_1_target_valid = train_test_split(\n",
    "    data['1_region_features'], data['1_region_target'], test_size = 0.25, random_state = 42)\n",
    "\n",
    "region_2_features_train, region_2_features_valid, region_2_target_train, region_2_target_valid = train_test_split(\n",
    "    data['2_region_features'], data['2_region_target'], test_size = 0.25, random_state = 42)\n",
    "\n",
    "region_3_features_train, region_3_features_valid, region_3_target_train, region_3_target_valid = train_test_split(\n",
    "    data['3_region_features'], data['3_region_target'], test_size = 0.25, random_state = 42)"
   ]
  },
  {
   "cell_type": "code",
   "execution_count": 15,
   "metadata": {},
   "outputs": [],
   "source": [
    "scaler = StandardScaler()\n",
    "def standart(features_train, features_valid):\n",
    "    scaler.fit(features_train)\n",
    "    features_train_scaled = scaler.transform(features_train)\n",
    "    features_valid_scaled = scaler.transform(features_valid) \n",
    "    return features_train_scaled, features_valid_scaled"
   ]
  },
  {
   "cell_type": "markdown",
   "metadata": {},
   "source": [
    "<div class=\"alert alert-info\">\n",
    "<h1>Комментарий студента <a class=\"tocSkip\"></a></h1>\n",
    "Отмасштабируем признаки.\n",
    "</div>"
   ]
  },
  {
   "cell_type": "code",
   "execution_count": 16,
   "metadata": {},
   "outputs": [],
   "source": [
    "region_1_features_train, region_1_features_valid = standart(region_1_features_train, region_1_features_valid)\n",
    "\n",
    "region_2_features_train, region_2_features_valid = standart(region_2_features_train, region_2_features_valid)\n",
    "\n",
    "region_3_features_train, region_3_features_valid = standart(region_3_features_train, region_3_features_valid)"
   ]
  },
  {
   "cell_type": "code",
   "execution_count": 17,
   "metadata": {},
   "outputs": [],
   "source": [
    "model = LinearRegression()"
   ]
  },
  {
   "cell_type": "code",
   "execution_count": 22,
   "metadata": {},
   "outputs": [],
   "source": [
    "def model_sensei(features_train, features_valid, target_train, target_valid):\n",
    "    model.fit(features_train, target_train)\n",
    "    predictions = model.predict(features_valid)\n",
    "    predictions = pd.Series(predictions, index=target_valid.index)\n",
    "    result = mean_squared_error(target_valid, predictions)\n",
    "    print(\"MSE модели линейной регрессии на валидационной выборке:\", result.round(2))\n",
    "    print(\"RMSE модели линейной регрессии на валидационной выборке:\", (result**0.5).round(2))\n",
    "    print('Средний запас предсказанного сырья', round(predictions.mean(), 2))\n",
    "    return predictions"
   ]
  },
  {
   "cell_type": "code",
   "execution_count": 25,
   "metadata": {},
   "outputs": [
    {
     "name": "stdout",
     "output_type": "stream",
     "text": [
      "MSE модели линейной регрессии на валидационной выборке: 1425.56\n",
      "RMSE модели линейной регрессии на валидационной выборке: 37.76\n",
      "Средний запас предсказанного сырья 92.4\n"
     ]
    }
   ],
   "source": [
    "predictions_1 = model_sensei(region_1_features_train, region_1_features_valid, region_1_target_train, region_1_target_valid)"
   ]
  },
  {
   "cell_type": "code",
   "execution_count": 26,
   "metadata": {},
   "outputs": [
    {
     "name": "stdout",
     "output_type": "stream",
     "text": [
      "MSE модели линейной регрессии на валидационной выборке: 0.79\n",
      "RMSE модели линейной регрессии на валидационной выборке: 0.89\n",
      "Средний запас предсказанного сырья 68.71\n"
     ]
    }
   ],
   "source": [
    "predictions_2 = model_sensei(region_2_features_train, region_2_features_valid, region_2_target_train, region_2_target_valid)"
   ]
  },
  {
   "cell_type": "code",
   "execution_count": 27,
   "metadata": {},
   "outputs": [
    {
     "name": "stdout",
     "output_type": "stream",
     "text": [
      "MSE модели линейной регрессии на валидационной выборке: 1611.69\n",
      "RMSE модели линейной регрессии на валидационной выборке: 40.15\n",
      "Средний запас предсказанного сырья 94.77\n"
     ]
    }
   ],
   "source": [
    "predictions_3 = model_sensei(region_3_features_train, region_3_features_valid, region_3_target_train, region_3_target_valid)"
   ]
  },
  {
   "cell_type": "code",
   "execution_count": 28,
   "metadata": {},
   "outputs": [],
   "source": [
    "table = ({'mse_1': 1425.56,\n",
    "'mse_2': 0.79,\n",
    "'mse_3': 1611.69,\n",
    "'avr_1': 92.4,\n",
    "'avr_2': 68.71,\n",
    "'avr_3': 94.77})"
   ]
  },
  {
   "cell_type": "markdown",
   "metadata": {},
   "source": [
    "## Подготовка к расчёту прибыли"
   ]
  },
  {
   "cell_type": "markdown",
   "metadata": {},
   "source": [
    "<div class=\"alert alert-info\">\n",
    "<h1>Комментарий студента <a class=\"tocSkip\"></a></h1>\n",
    "Определим нужные нам переменные.<br />\n",
    "places_count: кол-во исследуемыз точек<br />\n",
    "    <br />\n",
    "budget: бюджет<br />\n",
    "    <br />\n",
    "a_barrel_price: цена за один баррель<br />\n",
    "    <br />\n",
    "product_price: цена за 1000 баррелей(единицу целевого признака)<br />\n",
    "    <br />\n",
    "max_loss_probability: максимально допустимая веротяность убытков\n",
    "</div>"
   ]
  },
  {
   "cell_type": "code",
   "execution_count": 29,
   "metadata": {},
   "outputs": [],
   "source": [
    "places_count = 500\n",
    "\n",
    "the_best_places = 200\n",
    "\n",
    "budget = 10**10\n",
    "\n",
    "a_barrel_price = 450\n",
    "\n",
    "product_price = a_barrel_price * 1000\n",
    "\n",
    "max_loss_probability = 2.5"
   ]
  },
  {
   "cell_type": "markdown",
   "metadata": {},
   "source": [
    "<div class=\"alert alert-block alert-info\">\n",
    "<b>Совет: </b> В названиях константных переменных лучше использовать только БОЛЬШИЕ буквы. Это соглашение между программистами.\n",
    "</div>"
   ]
  },
  {
   "cell_type": "markdown",
   "metadata": {},
   "source": [
    "<div class=\"alert alert-info\">\n",
    "<h1>Комментарий студента <a class=\"tocSkip\"></a></h1>\n",
    "Почитаем средний объем по каждому объекту.\n",
    "</div>"
   ]
  },
  {
   "cell_type": "code",
   "execution_count": 31,
   "metadata": {},
   "outputs": [
    {
     "data": {
      "text/plain": [
       "'1_region_target'"
      ]
     },
     "metadata": {},
     "output_type": "display_data"
    },
    {
     "data": {
      "text/plain": [
       "92.5"
      ]
     },
     "metadata": {},
     "output_type": "display_data"
    },
    {
     "data": {
      "text/plain": [
       "'2_region_target'"
      ]
     },
     "metadata": {},
     "output_type": "display_data"
    },
    {
     "data": {
      "text/plain": [
       "68.83"
      ]
     },
     "metadata": {},
     "output_type": "display_data"
    },
    {
     "data": {
      "text/plain": [
       "'3_region_target'"
      ]
     },
     "metadata": {},
     "output_type": "display_data"
    },
    {
     "data": {
      "text/plain": [
       "95.0"
      ]
     },
     "metadata": {},
     "output_type": "display_data"
    }
   ],
   "source": [
    "for i in data.keys():\n",
    "    if 'target' in i:\n",
    "        display(i)\n",
    "        display(round(data[i].mean(), 2))"
   ]
  },
  {
   "cell_type": "markdown",
   "metadata": {},
   "source": [
    "<div class=\"alert alert-info\">\n",
    "<h1>Комментарий студента <a class=\"tocSkip\"></a></h1>\n",
    "Достаточный объем для безубыточной разработки.\n",
    "</div>"
   ]
  },
  {
   "cell_type": "code",
   "execution_count": 32,
   "metadata": {},
   "outputs": [
    {
     "data": {
      "text/plain": [
       "111.11"
      ]
     },
     "execution_count": 32,
     "metadata": {},
     "output_type": "execute_result"
    }
   ],
   "source": [
    "round(budget / (product_price * 200), 2)"
   ]
  },
  {
   "cell_type": "markdown",
   "metadata": {},
   "source": [
    "### Вывод"
   ]
  },
  {
   "cell_type": "markdown",
   "metadata": {},
   "source": [
    "<div class=\"alert alert-info\">\n",
    "<h1>Комментарий студента <a class=\"tocSkip\"></a></h1>\n",
    "Комментарий студента:</b> В результате расчета средней прибыли по регионам и достаточного объема сырья для безубыточной разрбаотки скважины можно сделать вывод, что выбирать скважины случайным образом нецелесообразно, так как даже на этапе предварительной оценки проект получается убыточным.\n",
    "</div>"
   ]
  },
  {
   "cell_type": "markdown",
   "metadata": {},
   "source": [
    "## Функция для расчёта прибыли по выбранным скважинам и предсказаниям модели"
   ]
  },
  {
   "cell_type": "markdown",
   "metadata": {},
   "source": [
    "<div class=\"alert alert-info\">\n",
    "<h1>Комментарий студента <a class=\"tocSkip\"></a></h1>\n",
    "Функция для расчета прибыли\n",
    "</div>"
   ]
  },
  {
   "cell_type": "code",
   "execution_count": 33,
   "metadata": {},
   "outputs": [],
   "source": [
    "def income(predictions, target, count):\n",
    "    #target = target.reset_index(drop=True)\n",
    "    #predictions = predictions.reset_index(drop=True)\n",
    "    predictions = predictions.sort_values(ascending=False)\n",
    "    sum_ = target[predictions.index][:count].sum()\n",
    "    return sum_ * product_price - budget"
   ]
  },
  {
   "cell_type": "code",
   "execution_count": 34,
   "metadata": {},
   "outputs": [
    {
     "data": {
      "text/plain": [
       "3359141114.462179"
      ]
     },
     "execution_count": 34,
     "metadata": {},
     "output_type": "execute_result"
    }
   ],
   "source": [
    "income(predictions_1, region_1_target_valid, 200)"
   ]
  },
  {
   "cell_type": "code",
   "execution_count": 35,
   "metadata": {},
   "outputs": [
    {
     "data": {
      "text/plain": [
       "2415086696.681511"
      ]
     },
     "execution_count": 35,
     "metadata": {},
     "output_type": "execute_result"
    }
   ],
   "source": [
    "income(predictions_2, region_2_target_valid, 200)"
   ]
  },
  {
   "cell_type": "code",
   "execution_count": 36,
   "metadata": {},
   "outputs": [
    {
     "data": {
      "text/plain": [
       "2598571759.374111"
      ]
     },
     "execution_count": 36,
     "metadata": {},
     "output_type": "execute_result"
    }
   ],
   "source": [
    "income(predictions_3, region_3_target_valid, 200)"
   ]
  },
  {
   "cell_type": "markdown",
   "metadata": {},
   "source": [
    "## Расчёт прибыли и рисков "
   ]
  },
  {
   "cell_type": "code",
   "execution_count": 37,
   "metadata": {},
   "outputs": [],
   "source": [
    "state = np.random.RandomState(42)\n",
    "count = 200\n",
    "\n",
    "def bootstrap(predictions, target, count): \n",
    "    target = target.where(target > 0)\n",
    "    values = []\n",
    "    for i in range(1000):\n",
    "        subsample_target = target.sample(n=500, replace=True, random_state=state)\n",
    "        subsample_predictions = predictions[subsample_target.index]\n",
    "        values.append(income(subsample_predictions, subsample_target, count))\n",
    "    values = pd.Series(values)\n",
    "    lower = values.quantile(0.025)\n",
    "    upper = values.quantile(0.975)\n",
    "    display('Средняя прибыль', values.mean())\n",
    "    display('Нижняя граница доверительного интервала',lower)\n",
    "    display('Верхняя граница доверительного интервала', upper)\n",
    "    return values"
   ]
  },
  {
   "cell_type": "code",
   "execution_count": 38,
   "metadata": {},
   "outputs": [
    {
     "data": {
      "text/plain": [
       "'Средняя прибыль'"
      ]
     },
     "metadata": {},
     "output_type": "display_data"
    },
    {
     "data": {
      "text/plain": [
       "427847560.4625241"
      ]
     },
     "metadata": {},
     "output_type": "display_data"
    },
    {
     "data": {
      "text/plain": [
       "'Нижняя граница доверительного интервала'"
      ]
     },
     "metadata": {},
     "output_type": "display_data"
    },
    {
     "data": {
      "text/plain": [
       "-97249829.56859529"
      ]
     },
     "metadata": {},
     "output_type": "display_data"
    },
    {
     "data": {
      "text/plain": [
       "'Верхняя граница доверительного интервала'"
      ]
     },
     "metadata": {},
     "output_type": "display_data"
    },
    {
     "data": {
      "text/plain": [
       "954215192.708815"
      ]
     },
     "metadata": {},
     "output_type": "display_data"
    }
   ],
   "source": [
    "values_1 = bootstrap(predictions_1, region_1_target_valid, count)"
   ]
  },
  {
   "cell_type": "code",
   "execution_count": 39,
   "metadata": {},
   "outputs": [
    {
     "data": {
      "text/plain": [
       "'Средняя прибыль'"
      ]
     },
     "metadata": {},
     "output_type": "display_data"
    },
    {
     "data": {
      "text/plain": [
       "511530218.1485253"
      ]
     },
     "metadata": {},
     "output_type": "display_data"
    },
    {
     "data": {
      "text/plain": [
       "'Нижняя граница доверительного интервала'"
      ]
     },
     "metadata": {},
     "output_type": "display_data"
    },
    {
     "data": {
      "text/plain": [
       "91700564.13644528"
      ]
     },
     "metadata": {},
     "output_type": "display_data"
    },
    {
     "data": {
      "text/plain": [
       "'Верхняя граница доверительного интервала'"
      ]
     },
     "metadata": {},
     "output_type": "display_data"
    },
    {
     "data": {
      "text/plain": [
       "921455668.3285091"
      ]
     },
     "metadata": {},
     "output_type": "display_data"
    }
   ],
   "source": [
    "values_2 = bootstrap(predictions_2, region_2_target_valid, count)"
   ]
  },
  {
   "cell_type": "code",
   "execution_count": 40,
   "metadata": {},
   "outputs": [
    {
     "data": {
      "text/plain": [
       "'Средняя прибыль'"
      ]
     },
     "metadata": {},
     "output_type": "display_data"
    },
    {
     "data": {
      "text/plain": [
       "408545681.21493495"
      ]
     },
     "metadata": {},
     "output_type": "display_data"
    },
    {
     "data": {
      "text/plain": [
       "'Нижняя граница доверительного интервала'"
      ]
     },
     "metadata": {},
     "output_type": "display_data"
    },
    {
     "data": {
      "text/plain": [
       "-120624872.94271684"
      ]
     },
     "metadata": {},
     "output_type": "display_data"
    },
    {
     "data": {
      "text/plain": [
       "'Верхняя граница доверительного интервала'"
      ]
     },
     "metadata": {},
     "output_type": "display_data"
    },
    {
     "data": {
      "text/plain": [
       "960859440.7253834"
      ]
     },
     "metadata": {},
     "output_type": "display_data"
    }
   ],
   "source": [
    "values_3 = bootstrap(predictions_3, region_3_target_valid, count)"
   ]
  },
  {
   "cell_type": "markdown",
   "metadata": {},
   "source": [
    "### Вывод "
   ]
  },
  {
   "cell_type": "code",
   "execution_count": 41,
   "metadata": {},
   "outputs": [],
   "source": [
    "final_table = pd.DataFrame({\n",
    "    'Показатель':['MSE', 'RMSE', 'Средний запас', 'Средняя прибыль(млн)', 'Вероятность убытка'],\n",
    "    'Регион_1':[table['mse_1'], table['mse_1']**0.5, data['1_region_target'].mean(), values_1.mean()/10**6, (values_1 < 0).mean()],\n",
    "    'Регион_2':[table['mse_2'], table['mse_2']**0.5, data['2_region_target'].mean(), values_2.mean()/10**6, (values_2 < 0).mean()],\n",
    "    'Регион_3':[table['mse_3'], table['mse_3']**0.5, data['3_region_target'].mean(), values_3.mean()/10**6, (values_3 < 0).mean()]\n",
    "})"
   ]
  },
  {
   "cell_type": "code",
   "execution_count": 42,
   "metadata": {},
   "outputs": [
    {
     "data": {
      "text/html": [
       "<div>\n",
       "<style scoped>\n",
       "    .dataframe tbody tr th:only-of-type {\n",
       "        vertical-align: middle;\n",
       "    }\n",
       "\n",
       "    .dataframe tbody tr th {\n",
       "        vertical-align: top;\n",
       "    }\n",
       "\n",
       "    .dataframe thead th {\n",
       "        text-align: right;\n",
       "    }\n",
       "</style>\n",
       "<table border=\"1\" class=\"dataframe\">\n",
       "  <thead>\n",
       "    <tr style=\"text-align: right;\">\n",
       "      <th></th>\n",
       "      <th>Показатель</th>\n",
       "      <th>Регион_1</th>\n",
       "      <th>Регион_2</th>\n",
       "      <th>Регион_3</th>\n",
       "    </tr>\n",
       "  </thead>\n",
       "  <tbody>\n",
       "    <tr>\n",
       "      <td>0</td>\n",
       "      <td>MSE</td>\n",
       "      <td>1425.560000</td>\n",
       "      <td>0.790000</td>\n",
       "      <td>1611.690000</td>\n",
       "    </tr>\n",
       "    <tr>\n",
       "      <td>1</td>\n",
       "      <td>RMSE</td>\n",
       "      <td>37.756589</td>\n",
       "      <td>0.888819</td>\n",
       "      <td>40.145859</td>\n",
       "    </tr>\n",
       "    <tr>\n",
       "      <td>2</td>\n",
       "      <td>Средний запас</td>\n",
       "      <td>92.500000</td>\n",
       "      <td>68.825000</td>\n",
       "      <td>95.000000</td>\n",
       "    </tr>\n",
       "    <tr>\n",
       "      <td>3</td>\n",
       "      <td>Средняя прибыль(млн)</td>\n",
       "      <td>427.847560</td>\n",
       "      <td>511.530218</td>\n",
       "      <td>408.545681</td>\n",
       "    </tr>\n",
       "    <tr>\n",
       "      <td>4</td>\n",
       "      <td>Вероятность убытка</td>\n",
       "      <td>0.055000</td>\n",
       "      <td>0.006000</td>\n",
       "      <td>0.075000</td>\n",
       "    </tr>\n",
       "  </tbody>\n",
       "</table>\n",
       "</div>"
      ],
      "text/plain": [
       "             Показатель     Регион_1    Регион_2     Регион_3\n",
       "0                   MSE  1425.560000    0.790000  1611.690000\n",
       "1                  RMSE    37.756589    0.888819    40.145859\n",
       "2         Средний запас    92.500000   68.825000    95.000000\n",
       "3  Средняя прибыль(млн)   427.847560  511.530218   408.545681\n",
       "4    Вероятность убытка     0.055000    0.006000     0.075000"
      ]
     },
     "metadata": {},
     "output_type": "display_data"
    }
   ],
   "source": [
    "display(final_table)"
   ]
  },
  {
   "cell_type": "code",
   "execution_count": 47,
   "metadata": {},
   "outputs": [],
   "source": [
    "final_table_1 = pd.DataFrame({\n",
    "    'Metrics':['MSE', 'RMSE', 'Average stock', 'Average profit(million)', 'Probability of loss'],\n",
    "    'Region_1':[table['mse_1'], table['mse_1']**0.5, data['1_region_target'].mean(), values_1.mean()/10**6, (values_1 < 0).mean()],\n",
    "    'Region_2':[table['mse_2'], table['mse_2']**0.5, data['2_region_target'].mean(), values_2.mean()/10**6, (values_2 < 0).mean()],\n",
    "    'Region_3':[table['mse_3'], table['mse_3']**0.5, data['3_region_target'].mean(), values_3.mean()/10**6, (values_3 < 0).mean()]\n",
    "})"
   ]
  },
  {
   "cell_type": "code",
   "execution_count": 48,
   "metadata": {},
   "outputs": [
    {
     "data": {
      "text/html": [
       "<div>\n",
       "<style scoped>\n",
       "    .dataframe tbody tr th:only-of-type {\n",
       "        vertical-align: middle;\n",
       "    }\n",
       "\n",
       "    .dataframe tbody tr th {\n",
       "        vertical-align: top;\n",
       "    }\n",
       "\n",
       "    .dataframe thead th {\n",
       "        text-align: right;\n",
       "    }\n",
       "</style>\n",
       "<table border=\"1\" class=\"dataframe\">\n",
       "  <thead>\n",
       "    <tr style=\"text-align: right;\">\n",
       "      <th></th>\n",
       "      <th>Metrics</th>\n",
       "      <th>Region_1</th>\n",
       "      <th>Region_2</th>\n",
       "      <th>Region_3</th>\n",
       "    </tr>\n",
       "  </thead>\n",
       "  <tbody>\n",
       "    <tr>\n",
       "      <td>0</td>\n",
       "      <td>MSE</td>\n",
       "      <td>1425.560000</td>\n",
       "      <td>0.790000</td>\n",
       "      <td>1611.690000</td>\n",
       "    </tr>\n",
       "    <tr>\n",
       "      <td>1</td>\n",
       "      <td>RMSE</td>\n",
       "      <td>37.756589</td>\n",
       "      <td>0.888819</td>\n",
       "      <td>40.145859</td>\n",
       "    </tr>\n",
       "    <tr>\n",
       "      <td>2</td>\n",
       "      <td>Average stock</td>\n",
       "      <td>92.500000</td>\n",
       "      <td>68.825000</td>\n",
       "      <td>95.000000</td>\n",
       "    </tr>\n",
       "    <tr>\n",
       "      <td>3</td>\n",
       "      <td>Average profit(million)</td>\n",
       "      <td>427.847560</td>\n",
       "      <td>511.530218</td>\n",
       "      <td>408.545681</td>\n",
       "    </tr>\n",
       "    <tr>\n",
       "      <td>4</td>\n",
       "      <td>Probability of loss</td>\n",
       "      <td>0.055000</td>\n",
       "      <td>0.006000</td>\n",
       "      <td>0.075000</td>\n",
       "    </tr>\n",
       "  </tbody>\n",
       "</table>\n",
       "</div>"
      ],
      "text/plain": [
       "                   Metrics     Region_1    Region_2     Region_3\n",
       "0                      MSE  1425.560000    0.790000  1611.690000\n",
       "1                     RMSE    37.756589    0.888819    40.145859\n",
       "2            Average stock    92.500000   68.825000    95.000000\n",
       "3  Average profit(million)   427.847560  511.530218   408.545681\n",
       "4      Probability of loss     0.055000    0.006000     0.075000"
      ]
     },
     "metadata": {},
     "output_type": "display_data"
    }
   ],
   "source": [
    "display(final_table_1)"
   ]
  },
  {
   "cell_type": "markdown",
   "metadata": {},
   "source": [
    "## Вывод"
   ]
  },
  {
   "cell_type": "markdown",
   "metadata": {},
   "source": [
    "<div class=\"alert alert-block alert-warning\">\n",
    "<b>Комментарий студента:</b> В ходе исследования модель линейной регрессии была обучена на тренировочной выборке.<br /> \n",
    "       На основании ее предсказаний был подсчитан средний доход, а так же определен достаточный объём сырья для безубыточной разработки новой скважины, из этих расчтов был сделан вывод, что выбирать скважины вслепую нецелесообразно, так как проект будет убыточным.<br />\n",
    "    <br /> \n",
    "        С помощью предсказаний модели и технологии bootstrap была подсчитана средняя прибыль и веротятсноть убытков, на основании результатов этих расчетов Регион №2 является наиболее переспективным для разработки, так как показал наименьший процент вероятности убытков(0.6 %) наибольшую среднюю прибыль(511.53 млн.)\n",
    "</div>"
   ]
  }
 ],
 "metadata": {
  "ExecuteTimeLog": [
   {
    "duration": 741,
    "start_time": "2021-07-19T18:56:28.199Z"
   },
   {
    "duration": 166,
    "start_time": "2021-07-19T18:56:53.343Z"
   },
   {
    "duration": 474,
    "start_time": "2021-07-19T18:59:14.196Z"
   },
   {
    "duration": 794,
    "start_time": "2021-07-19T18:59:43.186Z"
   },
   {
    "duration": 835,
    "start_time": "2021-07-19T18:59:50.992Z"
   },
   {
    "duration": 991,
    "start_time": "2021-07-19T19:00:42.629Z"
   },
   {
    "duration": 878,
    "start_time": "2021-07-19T19:02:17.016Z"
   },
   {
    "duration": 474,
    "start_time": "2021-07-19T19:03:34.013Z"
   },
   {
    "duration": 29,
    "start_time": "2021-07-19T19:03:44.329Z"
   },
   {
    "duration": 161,
    "start_time": "2021-07-19T19:04:19.801Z"
   },
   {
    "duration": 169,
    "start_time": "2021-07-19T19:04:36.685Z"
   },
   {
    "duration": 17,
    "start_time": "2021-07-19T19:04:51.809Z"
   },
   {
    "duration": 567,
    "start_time": "2021-07-19T19:05:20.226Z"
   },
   {
    "duration": 520,
    "start_time": "2021-07-19T19:05:27.352Z"
   },
   {
    "duration": 548,
    "start_time": "2021-07-19T19:16:44.490Z"
   },
   {
    "duration": 557,
    "start_time": "2021-07-19T19:17:09.310Z"
   },
   {
    "duration": 2009,
    "start_time": "2021-07-19T19:17:24.510Z"
   },
   {
    "duration": 740,
    "start_time": "2021-07-19T19:17:54.199Z"
   },
   {
    "duration": 532,
    "start_time": "2021-07-19T19:18:16.885Z"
   },
   {
    "duration": 1836,
    "start_time": "2021-07-19T19:20:23.532Z"
   },
   {
    "duration": 548,
    "start_time": "2021-07-19T19:24:34.739Z"
   },
   {
    "duration": 484,
    "start_time": "2021-07-19T19:24:48.420Z"
   },
   {
    "duration": 494,
    "start_time": "2021-07-19T19:24:56.260Z"
   },
   {
    "duration": 529,
    "start_time": "2021-07-19T19:25:10.612Z"
   },
   {
    "duration": 165,
    "start_time": "2021-07-19T19:25:30.349Z"
   },
   {
    "duration": 543,
    "start_time": "2021-07-19T19:25:33.675Z"
   },
   {
    "duration": 46571,
    "start_time": "2021-07-19T19:26:01.499Z"
   },
   {
    "duration": 108,
    "start_time": "2021-07-19T19:28:31.877Z"
   },
   {
    "duration": 578,
    "start_time": "2021-07-19T19:28:56.053Z"
   },
   {
    "duration": 560,
    "start_time": "2021-07-19T19:29:24.583Z"
   },
   {
    "duration": 779,
    "start_time": "2021-07-19T19:30:55.040Z"
   },
   {
    "duration": 571,
    "start_time": "2021-07-20T09:28:09.482Z"
   },
   {
    "duration": 141,
    "start_time": "2021-07-20T09:28:10.952Z"
   },
   {
    "duration": 532,
    "start_time": "2021-07-20T09:28:12.721Z"
   },
   {
    "duration": 4,
    "start_time": "2021-07-20T09:29:09.649Z"
   },
   {
    "duration": 18,
    "start_time": "2021-07-20T09:30:12.049Z"
   },
   {
    "duration": 240,
    "start_time": "2021-07-20T09:30:26.195Z"
   },
   {
    "duration": 199,
    "start_time": "2021-07-20T09:30:39.733Z"
   },
   {
    "duration": 547,
    "start_time": "2021-07-20T09:30:48.894Z"
   },
   {
    "duration": 34,
    "start_time": "2021-07-20T09:30:51.761Z"
   },
   {
    "duration": 3,
    "start_time": "2021-07-20T09:32:28.394Z"
   },
   {
    "duration": 11,
    "start_time": "2021-07-20T09:32:38.291Z"
   },
   {
    "duration": 190,
    "start_time": "2021-07-20T09:45:09.567Z"
   },
   {
    "duration": 4340,
    "start_time": "2021-07-20T09:47:14.112Z"
   },
   {
    "duration": 225,
    "start_time": "2021-07-20T09:47:50.125Z"
   },
   {
    "duration": 5170,
    "start_time": "2021-07-20T09:48:04.538Z"
   },
   {
    "duration": 241,
    "start_time": "2021-07-20T09:48:36.373Z"
   },
   {
    "duration": 3,
    "start_time": "2021-07-20T09:49:02.784Z"
   },
   {
    "duration": 5,
    "start_time": "2021-07-20T09:49:27.973Z"
   },
   {
    "duration": 443,
    "start_time": "2021-07-20T09:50:34.758Z"
   },
   {
    "duration": 134,
    "start_time": "2021-07-20T09:50:35.203Z"
   },
   {
    "duration": 519,
    "start_time": "2021-07-20T09:50:35.338Z"
   },
   {
    "duration": 25,
    "start_time": "2021-07-20T09:50:35.859Z"
   },
   {
    "duration": 14,
    "start_time": "2021-07-20T09:50:35.886Z"
   },
   {
    "duration": 3,
    "start_time": "2021-07-20T09:51:06.932Z"
   },
   {
    "duration": 6,
    "start_time": "2021-07-20T09:51:42.129Z"
   },
   {
    "duration": 234,
    "start_time": "2021-07-20T10:02:47.229Z"
   },
   {
    "duration": 2,
    "start_time": "2021-07-20T10:02:52.424Z"
   },
   {
    "duration": 5,
    "start_time": "2021-07-20T10:02:54.786Z"
   },
   {
    "duration": 4,
    "start_time": "2021-07-20T10:06:42.640Z"
   },
   {
    "duration": 258,
    "start_time": "2021-07-20T10:08:33.754Z"
   },
   {
    "duration": 4,
    "start_time": "2021-07-20T10:08:49.807Z"
   },
   {
    "duration": 13,
    "start_time": "2021-07-20T10:08:53.711Z"
   },
   {
    "duration": 33,
    "start_time": "2021-07-20T10:09:52.248Z"
   },
   {
    "duration": 3,
    "start_time": "2021-07-20T10:51:59.032Z"
   },
   {
    "duration": 3,
    "start_time": "2021-07-20T10:52:32.628Z"
   },
   {
    "duration": 3,
    "start_time": "2021-07-20T10:53:23.020Z"
   },
   {
    "duration": 44,
    "start_time": "2021-07-20T10:54:15.570Z"
   },
   {
    "duration": 193,
    "start_time": "2021-07-20T10:56:13.817Z"
   },
   {
    "duration": 65,
    "start_time": "2021-07-20T10:56:49.958Z"
   },
   {
    "duration": 380,
    "start_time": "2021-07-20T10:56:54.290Z"
   },
   {
    "duration": 372,
    "start_time": "2021-07-20T10:58:32.933Z"
   },
   {
    "duration": 2,
    "start_time": "2021-07-20T10:59:25.372Z"
   },
   {
    "duration": 3,
    "start_time": "2021-07-20T11:00:21.922Z"
   },
   {
    "duration": 146,
    "start_time": "2021-07-20T11:00:21.927Z"
   },
   {
    "duration": 588,
    "start_time": "2021-07-20T11:00:22.075Z"
   },
   {
    "duration": 29,
    "start_time": "2021-07-20T11:00:22.665Z"
   },
   {
    "duration": 21,
    "start_time": "2021-07-20T11:00:22.697Z"
   },
   {
    "duration": 7,
    "start_time": "2021-07-20T11:00:22.719Z"
   },
   {
    "duration": 35,
    "start_time": "2021-07-20T11:00:22.729Z"
   },
   {
    "duration": 19,
    "start_time": "2021-07-20T11:00:22.766Z"
   },
   {
    "duration": 17,
    "start_time": "2021-07-20T11:00:22.789Z"
   },
   {
    "duration": 19,
    "start_time": "2021-07-20T11:00:22.808Z"
   },
   {
    "duration": 29,
    "start_time": "2021-07-20T11:00:22.828Z"
   },
   {
    "duration": 5,
    "start_time": "2021-07-20T11:00:41.889Z"
   },
   {
    "duration": 143,
    "start_time": "2021-07-20T11:00:41.897Z"
   },
   {
    "duration": 586,
    "start_time": "2021-07-20T11:00:42.043Z"
   },
   {
    "duration": 12,
    "start_time": "2021-07-20T11:00:42.631Z"
   },
   {
    "duration": 10,
    "start_time": "2021-07-20T11:00:42.644Z"
   },
   {
    "duration": 17,
    "start_time": "2021-07-20T11:00:42.655Z"
   },
   {
    "duration": 48,
    "start_time": "2021-07-20T11:00:42.673Z"
   },
   {
    "duration": 2,
    "start_time": "2021-07-20T11:00:42.723Z"
   },
   {
    "duration": 19,
    "start_time": "2021-07-20T11:00:42.727Z"
   },
   {
    "duration": 385,
    "start_time": "2021-07-20T11:00:42.748Z"
   },
   {
    "duration": -431,
    "start_time": "2021-07-20T11:00:43.566Z"
   },
   {
    "duration": 13,
    "start_time": "2021-07-20T11:01:22.056Z"
   },
   {
    "duration": 13,
    "start_time": "2021-07-20T11:01:23.497Z"
   },
   {
    "duration": 12,
    "start_time": "2021-07-20T11:01:24.560Z"
   },
   {
    "duration": 3,
    "start_time": "2021-07-20T11:13:13.816Z"
   },
   {
    "duration": 5,
    "start_time": "2021-07-20T11:18:30.557Z"
   },
   {
    "duration": 8,
    "start_time": "2021-07-20T11:19:02.032Z"
   },
   {
    "duration": 3,
    "start_time": "2021-07-20T11:19:41.254Z"
   },
   {
    "duration": 124,
    "start_time": "2021-07-20T11:19:41.259Z"
   },
   {
    "duration": 523,
    "start_time": "2021-07-20T11:19:41.385Z"
   },
   {
    "duration": 12,
    "start_time": "2021-07-20T11:19:41.910Z"
   },
   {
    "duration": 8,
    "start_time": "2021-07-20T11:19:41.924Z"
   },
   {
    "duration": 6,
    "start_time": "2021-07-20T11:19:41.933Z"
   },
   {
    "duration": 50,
    "start_time": "2021-07-20T11:19:41.940Z"
   },
   {
    "duration": 3,
    "start_time": "2021-07-20T11:19:41.991Z"
   },
   {
    "duration": 22,
    "start_time": "2021-07-20T11:19:41.996Z"
   },
   {
    "duration": 3,
    "start_time": "2021-07-20T11:19:42.019Z"
   },
   {
    "duration": 6,
    "start_time": "2021-07-20T11:19:42.023Z"
   },
   {
    "duration": 58,
    "start_time": "2021-07-20T11:19:42.030Z"
   },
   {
    "duration": 101,
    "start_time": "2021-07-20T11:19:42.091Z"
   },
   {
    "duration": 98,
    "start_time": "2021-07-20T11:19:42.194Z"
   },
   {
    "duration": 4,
    "start_time": "2021-07-20T11:59:10.972Z"
   },
   {
    "duration": 132,
    "start_time": "2021-07-20T11:59:10.978Z"
   },
   {
    "duration": 1794,
    "start_time": "2021-07-20T11:59:11.112Z"
   },
   {
    "duration": -188,
    "start_time": "2021-07-20T11:59:13.096Z"
   },
   {
    "duration": -189,
    "start_time": "2021-07-20T11:59:13.098Z"
   },
   {
    "duration": -190,
    "start_time": "2021-07-20T11:59:13.100Z"
   },
   {
    "duration": -191,
    "start_time": "2021-07-20T11:59:13.102Z"
   },
   {
    "duration": -192,
    "start_time": "2021-07-20T11:59:13.104Z"
   },
   {
    "duration": -192,
    "start_time": "2021-07-20T11:59:13.105Z"
   },
   {
    "duration": -192,
    "start_time": "2021-07-20T11:59:13.106Z"
   },
   {
    "duration": -192,
    "start_time": "2021-07-20T11:59:13.107Z"
   },
   {
    "duration": -193,
    "start_time": "2021-07-20T11:59:13.109Z"
   },
   {
    "duration": -193,
    "start_time": "2021-07-20T11:59:13.110Z"
   },
   {
    "duration": -193,
    "start_time": "2021-07-20T11:59:13.111Z"
   },
   {
    "duration": 1639,
    "start_time": "2021-07-20T11:59:30.838Z"
   },
   {
    "duration": 3,
    "start_time": "2021-07-20T11:59:35.958Z"
   },
   {
    "duration": 137,
    "start_time": "2021-07-20T11:59:35.963Z"
   },
   {
    "duration": 1703,
    "start_time": "2021-07-20T11:59:36.102Z"
   },
   {
    "duration": -200,
    "start_time": "2021-07-20T11:59:38.007Z"
   },
   {
    "duration": -201,
    "start_time": "2021-07-20T11:59:38.009Z"
   },
   {
    "duration": -202,
    "start_time": "2021-07-20T11:59:38.011Z"
   },
   {
    "duration": -202,
    "start_time": "2021-07-20T11:59:38.012Z"
   },
   {
    "duration": -202,
    "start_time": "2021-07-20T11:59:38.013Z"
   },
   {
    "duration": -202,
    "start_time": "2021-07-20T11:59:38.014Z"
   },
   {
    "duration": -202,
    "start_time": "2021-07-20T11:59:38.015Z"
   },
   {
    "duration": -202,
    "start_time": "2021-07-20T11:59:38.017Z"
   },
   {
    "duration": -204,
    "start_time": "2021-07-20T11:59:38.020Z"
   },
   {
    "duration": -204,
    "start_time": "2021-07-20T11:59:38.021Z"
   },
   {
    "duration": -205,
    "start_time": "2021-07-20T11:59:38.023Z"
   },
   {
    "duration": 3,
    "start_time": "2021-07-20T12:00:35.718Z"
   },
   {
    "duration": 129,
    "start_time": "2021-07-20T12:00:35.723Z"
   },
   {
    "duration": 549,
    "start_time": "2021-07-20T12:00:35.854Z"
   },
   {
    "duration": 12,
    "start_time": "2021-07-20T12:00:36.405Z"
   },
   {
    "duration": 12,
    "start_time": "2021-07-20T12:00:36.418Z"
   },
   {
    "duration": 6,
    "start_time": "2021-07-20T12:00:36.431Z"
   },
   {
    "duration": 51,
    "start_time": "2021-07-20T12:00:36.439Z"
   },
   {
    "duration": 3,
    "start_time": "2021-07-20T12:00:36.492Z"
   },
   {
    "duration": 33,
    "start_time": "2021-07-20T12:00:36.497Z"
   },
   {
    "duration": 3,
    "start_time": "2021-07-20T12:00:36.532Z"
   },
   {
    "duration": 10,
    "start_time": "2021-07-20T12:00:36.536Z"
   },
   {
    "duration": 38,
    "start_time": "2021-07-20T12:00:36.548Z"
   },
   {
    "duration": 196,
    "start_time": "2021-07-20T12:00:36.588Z"
   },
   {
    "duration": 101,
    "start_time": "2021-07-20T12:00:36.787Z"
   },
   {
    "duration": 3,
    "start_time": "2021-07-20T12:04:32.663Z"
   },
   {
    "duration": 12,
    "start_time": "2021-07-20T12:04:33.712Z"
   },
   {
    "duration": 3,
    "start_time": "2021-07-20T12:04:49.734Z"
   },
   {
    "duration": 14,
    "start_time": "2021-07-20T12:04:50.411Z"
   },
   {
    "duration": 64,
    "start_time": "2021-07-20T12:05:07.173Z"
   },
   {
    "duration": 3,
    "start_time": "2021-07-20T12:05:11.586Z"
   },
   {
    "duration": 3,
    "start_time": "2021-07-20T12:05:21.561Z"
   },
   {
    "duration": 13,
    "start_time": "2021-07-20T12:05:22.102Z"
   },
   {
    "duration": 5,
    "start_time": "2021-07-20T15:26:13.384Z"
   },
   {
    "duration": 1374,
    "start_time": "2021-07-20T15:26:18.098Z"
   },
   {
    "duration": 203,
    "start_time": "2021-07-20T15:26:19.475Z"
   },
   {
    "duration": 846,
    "start_time": "2021-07-20T15:26:19.681Z"
   },
   {
    "duration": 17,
    "start_time": "2021-07-20T15:26:20.532Z"
   },
   {
    "duration": 35,
    "start_time": "2021-07-20T15:26:20.551Z"
   },
   {
    "duration": 6,
    "start_time": "2021-07-20T15:26:20.588Z"
   },
   {
    "duration": 59,
    "start_time": "2021-07-20T15:26:20.596Z"
   },
   {
    "duration": 4,
    "start_time": "2021-07-20T15:26:20.657Z"
   },
   {
    "duration": 29,
    "start_time": "2021-07-20T15:26:20.685Z"
   },
   {
    "duration": 4,
    "start_time": "2021-07-20T15:26:20.716Z"
   },
   {
    "duration": 11,
    "start_time": "2021-07-20T15:26:20.723Z"
   },
   {
    "duration": 59,
    "start_time": "2021-07-20T15:26:20.737Z"
   },
   {
    "duration": 195,
    "start_time": "2021-07-20T15:26:20.799Z"
   },
   {
    "duration": 109,
    "start_time": "2021-07-20T15:26:20.997Z"
   },
   {
    "duration": 5,
    "start_time": "2021-07-20T15:26:42.267Z"
   },
   {
    "duration": 18,
    "start_time": "2021-07-20T15:26:43.779Z"
   },
   {
    "duration": 16,
    "start_time": "2021-07-20T15:26:45.813Z"
   },
   {
    "duration": 15,
    "start_time": "2021-07-20T15:26:46.347Z"
   },
   {
    "duration": 5,
    "start_time": "2021-07-20T15:27:09.456Z"
   },
   {
    "duration": 15,
    "start_time": "2021-07-20T15:27:10.760Z"
   },
   {
    "duration": 5,
    "start_time": "2021-07-20T15:27:17.176Z"
   },
   {
    "duration": 32,
    "start_time": "2021-07-20T15:27:18.257Z"
   },
   {
    "duration": 16,
    "start_time": "2021-07-20T15:29:35.737Z"
   },
   {
    "duration": 15,
    "start_time": "2021-07-20T15:29:36.445Z"
   },
   {
    "duration": 15,
    "start_time": "2021-07-20T15:29:37.754Z"
   },
   {
    "duration": 5,
    "start_time": "2021-07-20T15:31:16.261Z"
   },
   {
    "duration": 898,
    "start_time": "2021-07-20T15:31:17.253Z"
   },
   {
    "duration": 5,
    "start_time": "2021-07-20T15:32:10.706Z"
   },
   {
    "duration": 679,
    "start_time": "2021-07-20T15:32:11.405Z"
   },
   {
    "duration": 645,
    "start_time": "2021-07-20T15:32:14.110Z"
   },
   {
    "duration": 687,
    "start_time": "2021-07-20T15:32:15.013Z"
   },
   {
    "duration": 5,
    "start_time": "2021-07-20T15:32:30.785Z"
   },
   {
    "duration": 23,
    "start_time": "2021-07-20T15:32:31.161Z"
   },
   {
    "duration": 32,
    "start_time": "2021-07-20T15:32:32.153Z"
   },
   {
    "duration": 21,
    "start_time": "2021-07-20T15:32:32.778Z"
   },
   {
    "duration": 635,
    "start_time": "2021-07-20T16:24:23.359Z"
   },
   {
    "duration": 696,
    "start_time": "2021-07-20T16:25:16.115Z"
   },
   {
    "duration": 19,
    "start_time": "2021-07-20T16:25:33.269Z"
   },
   {
    "duration": 4,
    "start_time": "2021-07-20T16:25:35.977Z"
   },
   {
    "duration": 7,
    "start_time": "2021-07-20T16:25:36.173Z"
   },
   {
    "duration": 77,
    "start_time": "2021-07-20T16:25:36.414Z"
   },
   {
    "duration": 22,
    "start_time": "2021-07-20T16:25:37.277Z"
   },
   {
    "duration": 22,
    "start_time": "2021-07-20T16:25:37.957Z"
   },
   {
    "duration": 15,
    "start_time": "2021-07-20T16:26:17.354Z"
   },
   {
    "duration": 16,
    "start_time": "2021-07-20T16:26:18.842Z"
   },
   {
    "duration": 16,
    "start_time": "2021-07-20T16:26:19.713Z"
   },
   {
    "duration": 6,
    "start_time": "2021-07-20T16:28:52.089Z"
   },
   {
    "duration": 4,
    "start_time": "2021-07-20T16:31:59.403Z"
   },
   {
    "duration": 309,
    "start_time": "2021-07-20T17:25:05.372Z"
   },
   {
    "duration": 308,
    "start_time": "2021-07-20T17:25:13.462Z"
   },
   {
    "duration": 93,
    "start_time": "2021-07-20T17:25:29.732Z"
   },
   {
    "duration": 17,
    "start_time": "2021-07-20T17:25:33.038Z"
   },
   {
    "duration": 17,
    "start_time": "2021-07-20T17:25:39.985Z"
   },
   {
    "duration": 1100,
    "start_time": "2021-07-20T17:28:10.750Z"
   },
   {
    "duration": 801,
    "start_time": "2021-07-20T17:28:18.369Z"
   },
   {
    "duration": 16,
    "start_time": "2021-07-20T17:28:19.382Z"
   },
   {
    "duration": 4,
    "start_time": "2021-07-20T17:28:26.462Z"
   },
   {
    "duration": 18,
    "start_time": "2021-07-20T17:28:27.645Z"
   },
   {
    "duration": 927,
    "start_time": "2021-07-20T17:28:28.813Z"
   },
   {
    "duration": 300,
    "start_time": "2021-07-20T17:28:42.717Z"
   },
   {
    "duration": 5,
    "start_time": "2021-07-20T17:28:51.430Z"
   },
   {
    "duration": 312,
    "start_time": "2021-07-20T17:29:02.426Z"
   },
   {
    "duration": 6,
    "start_time": "2021-07-20T17:29:57.636Z"
   },
   {
    "duration": 6,
    "start_time": "2021-07-20T17:30:02.385Z"
   },
   {
    "duration": 11,
    "start_time": "2021-07-20T17:39:26.542Z"
   },
   {
    "duration": 5,
    "start_time": "2021-07-20T18:02:30.822Z"
   },
   {
    "duration": 5,
    "start_time": "2021-07-20T18:04:02.567Z"
   },
   {
    "duration": 4,
    "start_time": "2021-07-20T18:04:28.184Z"
   },
   {
    "duration": 106,
    "start_time": "2021-07-20T18:04:28.475Z"
   },
   {
    "duration": 98,
    "start_time": "2021-07-20T18:04:50.641Z"
   },
   {
    "duration": 592,
    "start_time": "2021-07-20T18:04:58.224Z"
   },
   {
    "duration": 5,
    "start_time": "2021-07-20T18:30:25.230Z"
   },
   {
    "duration": 8,
    "start_time": "2021-07-20T18:30:53.549Z"
   },
   {
    "duration": 616,
    "start_time": "2021-07-20T18:31:02.214Z"
   },
   {
    "duration": 4,
    "start_time": "2021-07-20T18:31:32.816Z"
   },
   {
    "duration": 831,
    "start_time": "2021-07-20T18:31:33.473Z"
   },
   {
    "duration": 607,
    "start_time": "2021-07-20T18:31:42.032Z"
   },
   {
    "duration": 4,
    "start_time": "2021-07-20T18:32:17.401Z"
   },
   {
    "duration": 7,
    "start_time": "2021-07-20T18:32:18.833Z"
   },
   {
    "duration": 3,
    "start_time": "2021-07-20T18:32:19.386Z"
   },
   {
    "duration": 619,
    "start_time": "2021-07-20T18:32:20.216Z"
   },
   {
    "duration": 4,
    "start_time": "2021-07-20T18:32:37.610Z"
   },
   {
    "duration": 6,
    "start_time": "2021-07-20T18:32:38.104Z"
   },
   {
    "duration": 4,
    "start_time": "2021-07-20T18:32:38.800Z"
   },
   {
    "duration": 619,
    "start_time": "2021-07-20T18:32:39.304Z"
   },
   {
    "duration": 4,
    "start_time": "2021-07-20T18:34:24.569Z"
   },
   {
    "duration": 8,
    "start_time": "2021-07-20T18:34:25.003Z"
   },
   {
    "duration": 5,
    "start_time": "2021-07-20T18:34:25.193Z"
   },
   {
    "duration": 15,
    "start_time": "2021-07-20T18:34:25.440Z"
   },
   {
    "duration": 20,
    "start_time": "2021-07-20T18:34:52.684Z"
   },
   {
    "duration": 4,
    "start_time": "2021-07-20T18:35:10.228Z"
   },
   {
    "duration": 11,
    "start_time": "2021-07-20T18:35:10.405Z"
   },
   {
    "duration": 4,
    "start_time": "2021-07-20T18:37:36.833Z"
   },
   {
    "duration": 12,
    "start_time": "2021-07-20T18:37:37.634Z"
   },
   {
    "duration": 5,
    "start_time": "2021-07-20T18:38:12.269Z"
   },
   {
    "duration": 11,
    "start_time": "2021-07-20T18:38:12.940Z"
   },
   {
    "duration": 12,
    "start_time": "2021-07-20T18:38:53.593Z"
   },
   {
    "duration": 11,
    "start_time": "2021-07-20T18:38:56.281Z"
   },
   {
    "duration": 5,
    "start_time": "2021-07-20T18:39:27.190Z"
   },
   {
    "duration": 12,
    "start_time": "2021-07-20T18:39:27.405Z"
   },
   {
    "duration": 5,
    "start_time": "2021-07-20T18:41:22.378Z"
   },
   {
    "duration": 23,
    "start_time": "2021-07-20T18:41:22.810Z"
   },
   {
    "duration": 4,
    "start_time": "2021-07-20T18:42:08.488Z"
   },
   {
    "duration": 14,
    "start_time": "2021-07-20T18:42:08.928Z"
   },
   {
    "duration": 5,
    "start_time": "2021-07-20T18:42:42.348Z"
   },
   {
    "duration": 815,
    "start_time": "2021-07-20T18:42:42.796Z"
   },
   {
    "duration": 5,
    "start_time": "2021-07-20T18:42:53.025Z"
   },
   {
    "duration": 13,
    "start_time": "2021-07-20T18:42:53.264Z"
   },
   {
    "duration": 5,
    "start_time": "2021-07-20T18:42:57.921Z"
   },
   {
    "duration": 645,
    "start_time": "2021-07-20T18:42:58.448Z"
   },
   {
    "duration": 4,
    "start_time": "2021-07-20T18:43:06.185Z"
   },
   {
    "duration": 701,
    "start_time": "2021-07-20T18:43:06.609Z"
   },
   {
    "duration": 892,
    "start_time": "2021-07-20T18:43:07.436Z"
   },
   {
    "duration": 835,
    "start_time": "2021-07-20T18:43:19.796Z"
   },
   {
    "duration": 4,
    "start_time": "2021-07-20T18:43:24.347Z"
   },
   {
    "duration": 181,
    "start_time": "2021-07-20T18:43:24.354Z"
   },
   {
    "duration": 752,
    "start_time": "2021-07-20T18:43:24.538Z"
   },
   {
    "duration": 16,
    "start_time": "2021-07-20T18:43:25.292Z"
   },
   {
    "duration": 19,
    "start_time": "2021-07-20T18:43:25.311Z"
   },
   {
    "duration": 11,
    "start_time": "2021-07-20T18:43:25.332Z"
   },
   {
    "duration": 67,
    "start_time": "2021-07-20T18:43:25.345Z"
   },
   {
    "duration": 5,
    "start_time": "2021-07-20T18:43:25.414Z"
   },
   {
    "duration": 28,
    "start_time": "2021-07-20T18:43:25.423Z"
   },
   {
    "duration": 4,
    "start_time": "2021-07-20T18:43:25.454Z"
   },
   {
    "duration": 5,
    "start_time": "2021-07-20T18:43:25.485Z"
   },
   {
    "duration": 97,
    "start_time": "2021-07-20T18:43:25.492Z"
   },
   {
    "duration": 107,
    "start_time": "2021-07-20T18:43:25.592Z"
   },
   {
    "duration": 196,
    "start_time": "2021-07-20T18:43:25.788Z"
   },
   {
    "duration": 6,
    "start_time": "2021-07-20T18:43:25.988Z"
   },
   {
    "duration": 18,
    "start_time": "2021-07-20T18:43:26.086Z"
   },
   {
    "duration": 6,
    "start_time": "2021-07-20T18:43:26.106Z"
   },
   {
    "duration": 6,
    "start_time": "2021-07-20T18:43:26.115Z"
   },
   {
    "duration": 67,
    "start_time": "2021-07-20T18:43:26.124Z"
   },
   {
    "duration": 5,
    "start_time": "2021-07-20T18:43:26.194Z"
   },
   {
    "duration": 678,
    "start_time": "2021-07-20T18:43:26.202Z"
   },
   {
    "duration": 706,
    "start_time": "2021-07-20T18:43:26.177Z"
   },
   {
    "duration": 703,
    "start_time": "2021-07-20T18:43:26.182Z"
   },
   {
    "duration": 4,
    "start_time": "2021-07-20T18:43:48.882Z"
   },
   {
    "duration": 11,
    "start_time": "2021-07-20T18:43:49.721Z"
   },
   {
    "duration": 4,
    "start_time": "2021-07-20T18:44:00.672Z"
   },
   {
    "duration": 11,
    "start_time": "2021-07-20T18:44:00.936Z"
   },
   {
    "duration": 11,
    "start_time": "2021-07-20T18:44:01.408Z"
   },
   {
    "duration": 11,
    "start_time": "2021-07-20T18:44:01.840Z"
   },
   {
    "duration": 7,
    "start_time": "2021-07-20T18:45:16.986Z"
   },
   {
    "duration": 24,
    "start_time": "2021-07-20T19:06:53.074Z"
   },
   {
    "duration": 25,
    "start_time": "2021-07-20T19:07:36.913Z"
   },
   {
    "duration": 25,
    "start_time": "2021-07-20T19:07:42.832Z"
   },
   {
    "duration": 10,
    "start_time": "2021-07-20T19:09:04.698Z"
   },
   {
    "duration": 4,
    "start_time": "2021-07-20T19:09:30.438Z"
   },
   {
    "duration": 12,
    "start_time": "2021-07-20T19:09:30.685Z"
   },
   {
    "duration": 4,
    "start_time": "2021-07-20T19:09:36.090Z"
   },
   {
    "duration": 12,
    "start_time": "2021-07-20T19:09:36.281Z"
   },
   {
    "duration": 24,
    "start_time": "2021-07-20T19:19:09.224Z"
   },
   {
    "duration": 12,
    "start_time": "2021-07-20T19:19:37.484Z"
   },
   {
    "duration": 8,
    "start_time": "2021-07-20T19:21:15.040Z"
   },
   {
    "duration": 8,
    "start_time": "2021-07-20T19:21:38.591Z"
   },
   {
    "duration": 8,
    "start_time": "2021-07-20T19:21:43.011Z"
   },
   {
    "duration": 9,
    "start_time": "2021-07-20T19:22:42.986Z"
   },
   {
    "duration": 9,
    "start_time": "2021-07-20T19:22:52.978Z"
   },
   {
    "duration": 9,
    "start_time": "2021-07-20T19:23:03.800Z"
   },
   {
    "duration": 322,
    "start_time": "2021-07-20T19:23:43.818Z"
   },
   {
    "duration": 12,
    "start_time": "2021-07-20T19:23:47.106Z"
   },
   {
    "duration": 322,
    "start_time": "2021-07-20T19:23:47.688Z"
   },
   {
    "duration": 5,
    "start_time": "2021-07-20T19:24:21.646Z"
   },
   {
    "duration": 8,
    "start_time": "2021-07-20T19:24:48.771Z"
   },
   {
    "duration": 5,
    "start_time": "2021-07-20T19:24:49.171Z"
   },
   {
    "duration": 8,
    "start_time": "2021-07-20T19:24:50.769Z"
   },
   {
    "duration": 5,
    "start_time": "2021-07-20T19:31:10.718Z"
   },
   {
    "duration": 5,
    "start_time": "2021-07-20T19:38:41.819Z"
   },
   {
    "duration": 5,
    "start_time": "2021-07-20T19:38:43.410Z"
   },
   {
    "duration": 680,
    "start_time": "2021-07-20T19:38:59.911Z"
   },
   {
    "duration": 5,
    "start_time": "2021-07-20T19:39:14.612Z"
   },
   {
    "duration": 5,
    "start_time": "2021-07-20T19:39:14.843Z"
   },
   {
    "duration": 614,
    "start_time": "2021-07-20T19:39:15.052Z"
   },
   {
    "duration": 5,
    "start_time": "2021-07-20T19:41:05.047Z"
   },
   {
    "duration": 5,
    "start_time": "2021-07-20T19:41:05.494Z"
   },
   {
    "duration": 717,
    "start_time": "2021-07-20T19:41:06.031Z"
   },
   {
    "duration": 7,
    "start_time": "2021-07-20T19:43:26.229Z"
   },
   {
    "duration": 5,
    "start_time": "2021-07-20T19:48:28.749Z"
   },
   {
    "duration": 6,
    "start_time": "2021-07-20T19:48:29.485Z"
   },
   {
    "duration": 19,
    "start_time": "2021-07-20T19:48:29.660Z"
   },
   {
    "duration": 396,
    "start_time": "2021-07-20T19:49:07.341Z"
   },
   {
    "duration": 315,
    "start_time": "2021-07-20T19:49:52.118Z"
   },
   {
    "duration": 5,
    "start_time": "2021-07-20T19:49:57.473Z"
   },
   {
    "duration": 6,
    "start_time": "2021-07-20T19:50:16.169Z"
   },
   {
    "duration": 8,
    "start_time": "2021-07-20T19:50:32.950Z"
   },
   {
    "duration": 10,
    "start_time": "2021-07-20T19:50:53.033Z"
   },
   {
    "duration": 15,
    "start_time": "2021-07-20T19:51:11.367Z"
   },
   {
    "duration": 129,
    "start_time": "2021-07-20T19:52:04.099Z"
   },
   {
    "duration": 21,
    "start_time": "2021-07-20T19:52:07.037Z"
   },
   {
    "duration": 321,
    "start_time": "2021-07-20T19:52:25.968Z"
   },
   {
    "duration": 333,
    "start_time": "2021-07-20T19:52:29.706Z"
   },
   {
    "duration": 24,
    "start_time": "2021-07-20T19:52:34.520Z"
   },
   {
    "duration": 295,
    "start_time": "2021-07-20T19:54:46.568Z"
   },
   {
    "duration": 5,
    "start_time": "2021-07-20T19:56:45.873Z"
   },
   {
    "duration": 290,
    "start_time": "2021-07-20T19:56:48.056Z"
   },
   {
    "duration": 313,
    "start_time": "2021-07-20T19:56:56.065Z"
   },
   {
    "duration": 4,
    "start_time": "2021-07-20T19:56:58.113Z"
   },
   {
    "duration": 302,
    "start_time": "2021-07-20T19:56:58.457Z"
   },
   {
    "duration": 308,
    "start_time": "2021-07-20T19:57:21.278Z"
   },
   {
    "duration": 5,
    "start_time": "2021-07-20T19:57:33.162Z"
   },
   {
    "duration": 295,
    "start_time": "2021-07-20T19:57:33.171Z"
   },
   {
    "duration": 896,
    "start_time": "2021-07-20T19:57:33.470Z"
   },
   {
    "duration": 19,
    "start_time": "2021-07-20T19:57:34.386Z"
   },
   {
    "duration": 43,
    "start_time": "2021-07-20T19:57:34.408Z"
   },
   {
    "duration": 15,
    "start_time": "2021-07-20T19:57:34.454Z"
   },
   {
    "duration": 66,
    "start_time": "2021-07-20T19:57:34.471Z"
   },
   {
    "duration": 3,
    "start_time": "2021-07-20T19:57:34.541Z"
   },
   {
    "duration": 18,
    "start_time": "2021-07-20T19:57:34.547Z"
   },
   {
    "duration": 522,
    "start_time": "2021-07-20T19:57:34.568Z"
   },
   {
    "duration": 808,
    "start_time": "2021-07-20T19:57:34.285Z"
   },
   {
    "duration": 785,
    "start_time": "2021-07-20T19:57:34.310Z"
   },
   {
    "duration": 785,
    "start_time": "2021-07-20T19:57:34.312Z"
   },
   {
    "duration": 786,
    "start_time": "2021-07-20T19:57:34.313Z"
   },
   {
    "duration": 787,
    "start_time": "2021-07-20T19:57:34.314Z"
   },
   {
    "duration": 789,
    "start_time": "2021-07-20T19:57:34.315Z"
   },
   {
    "duration": 789,
    "start_time": "2021-07-20T19:57:34.316Z"
   },
   {
    "duration": 788,
    "start_time": "2021-07-20T19:57:34.318Z"
   },
   {
    "duration": 789,
    "start_time": "2021-07-20T19:57:34.319Z"
   },
   {
    "duration": 789,
    "start_time": "2021-07-20T19:57:34.320Z"
   },
   {
    "duration": 788,
    "start_time": "2021-07-20T19:57:34.322Z"
   },
   {
    "duration": 788,
    "start_time": "2021-07-20T19:57:34.324Z"
   },
   {
    "duration": 788,
    "start_time": "2021-07-20T19:57:34.325Z"
   },
   {
    "duration": 789,
    "start_time": "2021-07-20T19:57:34.326Z"
   },
   {
    "duration": 788,
    "start_time": "2021-07-20T19:57:34.328Z"
   },
   {
    "duration": 789,
    "start_time": "2021-07-20T19:57:34.329Z"
   },
   {
    "duration": 790,
    "start_time": "2021-07-20T19:57:34.330Z"
   },
   {
    "duration": 790,
    "start_time": "2021-07-20T19:57:34.331Z"
   },
   {
    "duration": 751,
    "start_time": "2021-07-20T19:57:34.372Z"
   },
   {
    "duration": 751,
    "start_time": "2021-07-20T19:57:34.374Z"
   },
   {
    "duration": 752,
    "start_time": "2021-07-20T19:57:34.375Z"
   },
   {
    "duration": 14,
    "start_time": "2021-07-20T19:57:50.785Z"
   },
   {
    "duration": 13,
    "start_time": "2021-07-20T19:58:09.765Z"
   },
   {
    "duration": 4,
    "start_time": "2021-07-20T19:58:29.145Z"
   },
   {
    "duration": 4,
    "start_time": "2021-07-20T19:58:29.474Z"
   },
   {
    "duration": 333,
    "start_time": "2021-07-20T19:58:29.690Z"
   },
   {
    "duration": 5,
    "start_time": "2021-07-20T19:58:47.471Z"
   },
   {
    "duration": 26,
    "start_time": "2021-07-20T19:58:47.909Z"
   },
   {
    "duration": 64,
    "start_time": "2021-07-20T20:00:44.522Z"
   },
   {
    "duration": 15,
    "start_time": "2021-07-20T20:00:47.702Z"
   },
   {
    "duration": 15,
    "start_time": "2021-07-20T20:00:48.485Z"
   },
   {
    "duration": 7,
    "start_time": "2021-07-20T20:02:33.707Z"
   },
   {
    "duration": 28,
    "start_time": "2021-07-20T20:02:33.907Z"
   },
   {
    "duration": 23,
    "start_time": "2021-07-20T20:02:34.321Z"
   },
   {
    "duration": 8,
    "start_time": "2021-07-20T20:02:34.496Z"
   },
   {
    "duration": 7,
    "start_time": "2021-07-20T20:02:34.677Z"
   },
   {
    "duration": 7,
    "start_time": "2021-07-20T20:02:34.854Z"
   },
   {
    "duration": 5,
    "start_time": "2021-07-20T20:02:35.024Z"
   },
   {
    "duration": 12,
    "start_time": "2021-07-20T20:02:35.213Z"
   },
   {
    "duration": 11,
    "start_time": "2021-07-20T20:02:35.385Z"
   },
   {
    "duration": 12,
    "start_time": "2021-07-20T20:02:35.581Z"
   },
   {
    "duration": 1651,
    "start_time": "2021-07-21T08:43:18.067Z"
   },
   {
    "duration": 241,
    "start_time": "2021-07-21T08:43:19.722Z"
   },
   {
    "duration": 835,
    "start_time": "2021-07-21T08:43:19.966Z"
   },
   {
    "duration": 18,
    "start_time": "2021-07-21T08:43:20.803Z"
   },
   {
    "duration": 14,
    "start_time": "2021-07-21T08:43:20.823Z"
   },
   {
    "duration": 9,
    "start_time": "2021-07-21T08:43:20.839Z"
   },
   {
    "duration": 79,
    "start_time": "2021-07-21T08:43:20.850Z"
   },
   {
    "duration": 4,
    "start_time": "2021-07-21T08:43:20.933Z"
   },
   {
    "duration": 56,
    "start_time": "2021-07-21T08:43:20.940Z"
   },
   {
    "duration": 3,
    "start_time": "2021-07-21T08:43:20.998Z"
   },
   {
    "duration": 10,
    "start_time": "2021-07-21T08:43:21.005Z"
   },
   {
    "duration": 8,
    "start_time": "2021-07-21T08:43:21.017Z"
   },
   {
    "duration": 69,
    "start_time": "2021-07-21T08:43:21.027Z"
   },
   {
    "duration": 108,
    "start_time": "2021-07-21T08:43:21.099Z"
   },
   {
    "duration": 176,
    "start_time": "2021-07-21T08:43:21.210Z"
   },
   {
    "duration": 97,
    "start_time": "2021-07-21T08:43:21.389Z"
   },
   {
    "duration": 6,
    "start_time": "2021-07-21T08:43:21.490Z"
   },
   {
    "duration": 105,
    "start_time": "2021-07-21T08:43:21.499Z"
   },
   {
    "duration": 5,
    "start_time": "2021-07-21T08:43:21.607Z"
   },
   {
    "duration": 9,
    "start_time": "2021-07-21T08:43:21.615Z"
   },
   {
    "duration": 73,
    "start_time": "2021-07-21T08:43:21.626Z"
   },
   {
    "duration": 24,
    "start_time": "2021-07-21T08:43:21.702Z"
   },
   {
    "duration": 8,
    "start_time": "2021-07-21T08:43:21.730Z"
   },
   {
    "duration": 7,
    "start_time": "2021-07-21T08:43:21.741Z"
   },
   {
    "duration": 8,
    "start_time": "2021-07-21T08:43:21.787Z"
   },
   {
    "duration": 7,
    "start_time": "2021-07-21T08:43:21.798Z"
   },
   {
    "duration": 17,
    "start_time": "2021-07-21T08:43:21.807Z"
   },
   {
    "duration": 11,
    "start_time": "2021-07-21T08:43:21.826Z"
   },
   {
    "duration": 48,
    "start_time": "2021-07-21T08:43:21.840Z"
   },
   {
    "duration": 6,
    "start_time": "2021-07-21T08:44:34.929Z"
   },
   {
    "duration": 4,
    "start_time": "2021-07-21T08:44:40.878Z"
   },
   {
    "duration": 5,
    "start_time": "2021-07-21T08:46:42.832Z"
   },
   {
    "duration": 11,
    "start_time": "2021-07-21T08:46:43.053Z"
   },
   {
    "duration": 11,
    "start_time": "2021-07-21T08:46:43.414Z"
   },
   {
    "duration": 11,
    "start_time": "2021-07-21T08:46:43.703Z"
   },
   {
    "duration": 6,
    "start_time": "2021-07-21T08:47:06.002Z"
   },
   {
    "duration": 4,
    "start_time": "2021-07-21T08:47:23.745Z"
   },
   {
    "duration": 432,
    "start_time": "2021-07-21T08:59:04.777Z"
   },
   {
    "duration": 4,
    "start_time": "2021-07-21T08:59:16.837Z"
   },
   {
    "duration": 4,
    "start_time": "2021-07-21T08:59:23.381Z"
   },
   {
    "duration": 10,
    "start_time": "2021-07-21T09:02:43.207Z"
   },
   {
    "duration": 10,
    "start_time": "2021-07-21T09:02:46.293Z"
   },
   {
    "duration": 5615,
    "start_time": "2021-07-21T09:29:14.080Z"
   },
   {
    "duration": 1347,
    "start_time": "2021-07-21T09:31:28.854Z"
   },
   {
    "duration": 356,
    "start_time": "2021-07-21T09:31:54.215Z"
   },
   {
    "duration": 4,
    "start_time": "2021-07-21T09:32:26.254Z"
   },
   {
    "duration": 11,
    "start_time": "2021-07-21T09:32:26.510Z"
   },
   {
    "duration": 5488,
    "start_time": "2021-07-21T09:32:49.781Z"
   },
   {
    "duration": 4,
    "start_time": "2021-07-21T09:32:57.888Z"
   },
   {
    "duration": 10,
    "start_time": "2021-07-21T09:32:58.136Z"
   },
   {
    "duration": 45,
    "start_time": "2021-07-21T09:33:26.830Z"
   },
   {
    "duration": 6,
    "start_time": "2021-07-21T09:33:31.439Z"
   },
   {
    "duration": 9,
    "start_time": "2021-07-21T10:47:58.982Z"
   },
   {
    "duration": 5,
    "start_time": "2021-07-21T10:48:03.727Z"
   },
   {
    "duration": 654,
    "start_time": "2021-07-21T10:50:12.085Z"
   },
   {
    "duration": 16,
    "start_time": "2021-07-21T10:50:45.176Z"
   },
   {
    "duration": 18,
    "start_time": "2021-07-21T10:51:46.308Z"
   },
   {
    "duration": 6,
    "start_time": "2021-07-21T10:51:54.472Z"
   },
   {
    "duration": 6,
    "start_time": "2021-07-21T10:52:25.511Z"
   },
   {
    "duration": 4,
    "start_time": "2021-07-21T10:52:32.718Z"
   },
   {
    "duration": 13,
    "start_time": "2021-07-21T10:52:59.414Z"
   },
   {
    "duration": 14,
    "start_time": "2021-07-21T10:53:10.278Z"
   },
   {
    "duration": 5,
    "start_time": "2021-07-21T10:55:00.238Z"
   },
   {
    "duration": 5,
    "start_time": "2021-07-21T10:55:15.679Z"
   },
   {
    "duration": 5,
    "start_time": "2021-07-21T10:55:16.247Z"
   },
   {
    "duration": 5,
    "start_time": "2021-07-21T10:55:16.896Z"
   },
   {
    "duration": 17,
    "start_time": "2021-07-21T10:55:17.224Z"
   },
   {
    "duration": 13,
    "start_time": "2021-07-21T10:55:18.199Z"
   },
   {
    "duration": 13,
    "start_time": "2021-07-21T10:55:19.182Z"
   },
   {
    "duration": 12,
    "start_time": "2021-07-21T10:55:22.539Z"
   },
   {
    "duration": 4,
    "start_time": "2021-07-21T10:55:43.386Z"
   },
   {
    "duration": 5,
    "start_time": "2021-07-21T10:55:43.651Z"
   },
   {
    "duration": 5,
    "start_time": "2021-07-21T10:55:44.052Z"
   },
   {
    "duration": 14,
    "start_time": "2021-07-21T10:55:44.357Z"
   },
   {
    "duration": 13,
    "start_time": "2021-07-21T10:55:44.979Z"
   },
   {
    "duration": 14,
    "start_time": "2021-07-21T10:55:45.178Z"
   },
   {
    "duration": 5,
    "start_time": "2021-07-21T11:00:48.319Z"
   },
   {
    "duration": 5,
    "start_time": "2021-07-21T11:00:49.310Z"
   },
   {
    "duration": 24,
    "start_time": "2021-07-21T11:00:49.574Z"
   },
   {
    "duration": 16,
    "start_time": "2021-07-21T11:00:50.631Z"
   },
   {
    "duration": 14,
    "start_time": "2021-07-21T11:00:51.055Z"
   },
   {
    "duration": 2030,
    "start_time": "2021-07-21T11:01:45.285Z"
   },
   {
    "duration": 6,
    "start_time": "2021-07-21T11:01:55.037Z"
   },
   {
    "duration": 610,
    "start_time": "2021-07-21T11:02:01.102Z"
   },
   {
    "duration": 626,
    "start_time": "2021-07-21T11:02:02.893Z"
   },
   {
    "duration": 46,
    "start_time": "2021-07-21T11:02:13.919Z"
   },
   {
    "duration": 5,
    "start_time": "2021-07-21T11:02:16.058Z"
   },
   {
    "duration": 5,
    "start_time": "2021-07-21T11:02:17.231Z"
   },
   {
    "duration": 53,
    "start_time": "2021-07-21T11:02:17.433Z"
   },
   {
    "duration": 17,
    "start_time": "2021-07-21T11:02:18.183Z"
   },
   {
    "duration": 18,
    "start_time": "2021-07-21T11:02:18.409Z"
   },
   {
    "duration": 4,
    "start_time": "2021-07-21T11:02:22.841Z"
   },
   {
    "duration": 6,
    "start_time": "2021-07-21T11:02:23.297Z"
   },
   {
    "duration": 5,
    "start_time": "2021-07-21T11:02:23.736Z"
   },
   {
    "duration": 16,
    "start_time": "2021-07-21T11:02:24.032Z"
   },
   {
    "duration": 14,
    "start_time": "2021-07-21T11:02:25.881Z"
   },
   {
    "duration": 14,
    "start_time": "2021-07-21T11:02:26.680Z"
   },
   {
    "duration": 4,
    "start_time": "2021-07-21T11:02:29.864Z"
   },
   {
    "duration": 180,
    "start_time": "2021-07-21T11:02:29.871Z"
   },
   {
    "duration": 770,
    "start_time": "2021-07-21T11:02:30.053Z"
   },
   {
    "duration": 17,
    "start_time": "2021-07-21T11:02:30.826Z"
   },
   {
    "duration": 19,
    "start_time": "2021-07-21T11:02:30.845Z"
   },
   {
    "duration": 20,
    "start_time": "2021-07-21T11:02:30.867Z"
   },
   {
    "duration": 45,
    "start_time": "2021-07-21T11:02:30.889Z"
   },
   {
    "duration": 5,
    "start_time": "2021-07-21T11:02:30.938Z"
   },
   {
    "duration": 11,
    "start_time": "2021-07-21T11:02:30.945Z"
   },
   {
    "duration": 21,
    "start_time": "2021-07-21T11:02:30.987Z"
   },
   {
    "duration": 14,
    "start_time": "2021-07-21T11:02:31.010Z"
   },
   {
    "duration": 17,
    "start_time": "2021-07-21T11:02:31.027Z"
   },
   {
    "duration": 139,
    "start_time": "2021-07-21T11:02:31.046Z"
   },
   {
    "duration": 104,
    "start_time": "2021-07-21T11:02:31.188Z"
   },
   {
    "duration": 192,
    "start_time": "2021-07-21T11:02:31.295Z"
   },
   {
    "duration": 94,
    "start_time": "2021-07-21T11:02:31.492Z"
   },
   {
    "duration": 33,
    "start_time": "2021-07-21T11:02:31.588Z"
   },
   {
    "duration": 7,
    "start_time": "2021-07-21T11:02:31.624Z"
   },
   {
    "duration": 53,
    "start_time": "2021-07-21T11:02:31.634Z"
   },
   {
    "duration": 30,
    "start_time": "2021-07-21T11:02:31.689Z"
   },
   {
    "duration": 15,
    "start_time": "2021-07-21T11:02:31.721Z"
   },
   {
    "duration": 26,
    "start_time": "2021-07-21T11:02:31.739Z"
   },
   {
    "duration": 18,
    "start_time": "2021-07-21T11:02:31.784Z"
   },
   {
    "duration": 15,
    "start_time": "2021-07-21T11:02:31.805Z"
   },
   {
    "duration": 5,
    "start_time": "2021-07-21T11:02:31.823Z"
   },
   {
    "duration": 7355,
    "start_time": "2021-07-21T11:02:31.831Z"
   },
   {
    "duration": 3,
    "start_time": "2021-07-21T11:02:39.188Z"
   },
   {
    "duration": 16,
    "start_time": "2021-07-21T11:02:39.194Z"
   },
   {
    "duration": 28,
    "start_time": "2021-07-21T11:03:26.866Z"
   },
   {
    "duration": 4,
    "start_time": "2021-07-21T11:03:27.458Z"
   },
   {
    "duration": 6,
    "start_time": "2021-07-21T11:03:27.890Z"
   },
   {
    "duration": 5,
    "start_time": "2021-07-21T11:03:41.409Z"
   },
   {
    "duration": 19,
    "start_time": "2021-07-21T11:03:42.077Z"
   },
   {
    "duration": 14,
    "start_time": "2021-07-21T11:04:55.925Z"
   },
   {
    "duration": 13,
    "start_time": "2021-07-21T11:04:56.461Z"
   },
   {
    "duration": 14,
    "start_time": "2021-07-21T11:04:56.957Z"
   },
   {
    "duration": 8,
    "start_time": "2021-07-21T11:06:36.066Z"
   },
   {
    "duration": 5,
    "start_time": "2021-07-21T11:06:46.060Z"
   },
   {
    "duration": 44,
    "start_time": "2021-07-21T11:06:47.529Z"
   },
   {
    "duration": 6,
    "start_time": "2021-07-21T11:07:06.805Z"
   },
   {
    "duration": 326,
    "start_time": "2021-07-21T11:07:11.557Z"
   },
   {
    "duration": 5,
    "start_time": "2021-07-21T11:07:17.085Z"
   },
   {
    "duration": 7,
    "start_time": "2021-07-21T11:08:06.127Z"
   },
   {
    "duration": 7,
    "start_time": "2021-07-21T11:08:39.665Z"
   },
   {
    "duration": 6,
    "start_time": "2021-07-21T11:08:45.583Z"
   },
   {
    "duration": 7,
    "start_time": "2021-07-21T11:09:14.052Z"
   },
   {
    "duration": 12,
    "start_time": "2021-07-21T11:09:49.194Z"
   },
   {
    "duration": 104,
    "start_time": "2021-07-21T11:10:01.253Z"
   },
   {
    "duration": 13,
    "start_time": "2021-07-21T11:10:04.942Z"
   },
   {
    "duration": 8,
    "start_time": "2021-07-21T11:10:12.820Z"
   },
   {
    "duration": 7,
    "start_time": "2021-07-21T11:10:24.721Z"
   },
   {
    "duration": 9,
    "start_time": "2021-07-21T11:10:25.168Z"
   },
   {
    "duration": 4,
    "start_time": "2021-07-21T11:10:38.234Z"
   },
   {
    "duration": 6,
    "start_time": "2021-07-21T11:10:38.602Z"
   },
   {
    "duration": 22,
    "start_time": "2021-07-21T11:10:39.057Z"
   },
   {
    "duration": 7,
    "start_time": "2021-07-21T11:10:39.449Z"
   },
   {
    "duration": 6,
    "start_time": "2021-07-21T11:10:40.208Z"
   },
   {
    "duration": 5,
    "start_time": "2021-07-21T11:11:28.546Z"
   },
   {
    "duration": 5,
    "start_time": "2021-07-21T11:11:28.800Z"
   },
   {
    "duration": 16,
    "start_time": "2021-07-21T11:11:29.185Z"
   },
   {
    "duration": 7,
    "start_time": "2021-07-21T11:11:29.561Z"
   },
   {
    "duration": 6,
    "start_time": "2021-07-21T11:11:30.001Z"
   },
   {
    "duration": 5,
    "start_time": "2021-07-21T11:24:05.336Z"
   },
   {
    "duration": 16,
    "start_time": "2021-07-21T11:24:05.754Z"
   },
   {
    "duration": 4,
    "start_time": "2021-07-21T11:25:12.461Z"
   },
   {
    "duration": 13,
    "start_time": "2021-07-21T11:25:18.661Z"
   },
   {
    "duration": 13,
    "start_time": "2021-07-21T11:25:19.076Z"
   },
   {
    "duration": 14,
    "start_time": "2021-07-21T11:25:19.639Z"
   },
   {
    "duration": 5,
    "start_time": "2021-07-21T11:25:40.217Z"
   },
   {
    "duration": 4,
    "start_time": "2021-07-21T11:25:40.530Z"
   },
   {
    "duration": 5,
    "start_time": "2021-07-21T11:25:40.865Z"
   },
   {
    "duration": 4,
    "start_time": "2021-07-21T11:25:41.249Z"
   },
   {
    "duration": 11,
    "start_time": "2021-07-21T11:25:41.579Z"
   },
   {
    "duration": 13,
    "start_time": "2021-07-21T11:25:41.945Z"
   },
   {
    "duration": 14,
    "start_time": "2021-07-21T11:25:42.674Z"
   },
   {
    "duration": 4,
    "start_time": "2021-07-21T11:25:52.763Z"
   },
   {
    "duration": 166,
    "start_time": "2021-07-21T11:25:52.770Z"
   },
   {
    "duration": 718,
    "start_time": "2021-07-21T11:25:52.940Z"
   },
   {
    "duration": 17,
    "start_time": "2021-07-21T11:25:53.685Z"
   },
   {
    "duration": 17,
    "start_time": "2021-07-21T11:25:53.704Z"
   },
   {
    "duration": 14,
    "start_time": "2021-07-21T11:25:53.723Z"
   },
   {
    "duration": 69,
    "start_time": "2021-07-21T11:25:53.739Z"
   },
   {
    "duration": 4,
    "start_time": "2021-07-21T11:25:53.812Z"
   },
   {
    "duration": 30,
    "start_time": "2021-07-21T11:25:53.819Z"
   },
   {
    "duration": 4,
    "start_time": "2021-07-21T11:25:53.851Z"
   },
   {
    "duration": 30,
    "start_time": "2021-07-21T11:25:53.857Z"
   },
   {
    "duration": 17,
    "start_time": "2021-07-21T11:25:53.890Z"
   },
   {
    "duration": 83,
    "start_time": "2021-07-21T11:25:53.909Z"
   },
   {
    "duration": 99,
    "start_time": "2021-07-21T11:25:53.995Z"
   },
   {
    "duration": 198,
    "start_time": "2021-07-21T11:25:54.097Z"
   },
   {
    "duration": 190,
    "start_time": "2021-07-21T11:25:54.299Z"
   },
   {
    "duration": 23,
    "start_time": "2021-07-21T11:25:54.492Z"
   },
   {
    "duration": 5,
    "start_time": "2021-07-21T11:25:54.517Z"
   },
   {
    "duration": 8,
    "start_time": "2021-07-21T11:25:54.525Z"
   },
   {
    "duration": 5,
    "start_time": "2021-07-21T11:25:54.586Z"
   },
   {
    "duration": 10,
    "start_time": "2021-07-21T11:25:54.594Z"
   },
   {
    "duration": 10,
    "start_time": "2021-07-21T11:25:54.607Z"
   },
   {
    "duration": 18,
    "start_time": "2021-07-21T11:25:54.622Z"
   },
   {
    "duration": 50,
    "start_time": "2021-07-21T11:25:54.643Z"
   },
   {
    "duration": 14,
    "start_time": "2021-07-21T11:25:54.695Z"
   },
   {
    "duration": 6,
    "start_time": "2021-07-21T11:25:54.711Z"
   },
   {
    "duration": 10,
    "start_time": "2021-07-21T11:25:54.719Z"
   },
   {
    "duration": 65,
    "start_time": "2021-07-21T11:25:54.731Z"
   },
   {
    "duration": 14,
    "start_time": "2021-07-21T11:25:54.798Z"
   },
   {
    "duration": 5,
    "start_time": "2021-07-21T11:26:09.875Z"
   },
   {
    "duration": 5,
    "start_time": "2021-07-21T11:26:10.193Z"
   },
   {
    "duration": 5,
    "start_time": "2021-07-21T11:26:10.569Z"
   },
   {
    "duration": 3,
    "start_time": "2021-07-21T11:26:10.870Z"
   },
   {
    "duration": 12,
    "start_time": "2021-07-21T11:26:11.190Z"
   },
   {
    "duration": 13,
    "start_time": "2021-07-21T11:26:11.773Z"
   },
   {
    "duration": 13,
    "start_time": "2021-07-21T11:26:12.141Z"
   },
   {
    "duration": 6,
    "start_time": "2021-07-21T11:44:10.435Z"
   },
   {
    "duration": 7,
    "start_time": "2021-07-21T11:44:25.677Z"
   },
   {
    "duration": 308,
    "start_time": "2021-07-21T11:44:26.118Z"
   },
   {
    "duration": 619,
    "start_time": "2021-07-21T11:45:16.866Z"
   },
   {
    "duration": 7,
    "start_time": "2021-07-21T11:45:35.486Z"
   },
   {
    "duration": 3067,
    "start_time": "2021-07-21T11:45:35.793Z"
   },
   {
    "duration": 3115,
    "start_time": "2021-07-21T11:47:48.113Z"
   },
   {
    "duration": 3241,
    "start_time": "2021-07-21T11:47:51.230Z"
   },
   {
    "duration": 3166,
    "start_time": "2021-07-21T11:52:13.724Z"
   },
   {
    "duration": 3172,
    "start_time": "2021-07-21T11:52:18.163Z"
   },
   {
    "duration": 154,
    "start_time": "2021-07-21T11:57:56.919Z"
   },
   {
    "duration": 9,
    "start_time": "2021-07-21T11:58:04.041Z"
   },
   {
    "duration": 8672,
    "start_time": "2021-07-21T11:58:05.355Z"
   },
   {
    "duration": 7,
    "start_time": "2021-07-21T12:32:39.933Z"
   },
   {
    "duration": 4778,
    "start_time": "2021-07-21T12:32:40.922Z"
   },
   {
    "duration": 4899,
    "start_time": "2021-07-21T12:32:45.703Z"
   },
   {
    "duration": 4758,
    "start_time": "2021-07-21T12:32:52.739Z"
   },
   {
    "duration": 8,
    "start_time": "2021-07-21T12:37:25.376Z"
   },
   {
    "duration": 8,
    "start_time": "2021-07-21T12:37:39.110Z"
   },
   {
    "duration": 11020,
    "start_time": "2021-07-21T12:37:39.120Z"
   },
   {
    "duration": 4,
    "start_time": "2021-07-21T13:03:01.712Z"
   },
   {
    "duration": 7,
    "start_time": "2021-07-21T13:03:02.889Z"
   },
   {
    "duration": 5004,
    "start_time": "2021-07-21T13:03:03.708Z"
   },
   {
    "duration": 4732,
    "start_time": "2021-07-21T13:03:15.096Z"
   },
   {
    "duration": 7,
    "start_time": "2021-07-21T13:05:27.938Z"
   },
   {
    "duration": 4938,
    "start_time": "2021-07-21T13:05:28.208Z"
   },
   {
    "duration": 9,
    "start_time": "2021-07-21T13:09:18.913Z"
   },
   {
    "duration": 4754,
    "start_time": "2021-07-21T13:09:19.833Z"
   },
   {
    "duration": 4740,
    "start_time": "2021-07-21T13:12:56.280Z"
   },
   {
    "duration": 4904,
    "start_time": "2021-07-21T13:13:01.022Z"
   },
   {
    "duration": 7,
    "start_time": "2021-07-21T13:14:42.781Z"
   },
   {
    "duration": 4721,
    "start_time": "2021-07-21T13:14:44.020Z"
   },
   {
    "duration": 8,
    "start_time": "2021-07-21T13:15:11.253Z"
   },
   {
    "duration": 4890,
    "start_time": "2021-07-21T13:15:11.773Z"
   },
   {
    "duration": 9,
    "start_time": "2021-07-21T13:15:39.894Z"
   },
   {
    "duration": 4920,
    "start_time": "2021-07-21T13:15:40.125Z"
   },
   {
    "duration": 1340,
    "start_time": "2021-07-24T10:41:20.632Z"
   },
   {
    "duration": 170,
    "start_time": "2021-07-24T10:41:21.975Z"
   },
   {
    "duration": 695,
    "start_time": "2021-07-24T10:41:22.148Z"
   },
   {
    "duration": 38,
    "start_time": "2021-07-24T10:41:22.846Z"
   },
   {
    "duration": 19,
    "start_time": "2021-07-24T10:41:22.886Z"
   },
   {
    "duration": 20,
    "start_time": "2021-07-24T10:41:22.907Z"
   },
   {
    "duration": 50,
    "start_time": "2021-07-24T10:41:22.929Z"
   },
   {
    "duration": 4,
    "start_time": "2021-07-24T10:41:22.984Z"
   },
   {
    "duration": 35,
    "start_time": "2021-07-24T10:41:22.991Z"
   },
   {
    "duration": 4,
    "start_time": "2021-07-24T10:41:23.028Z"
   },
   {
    "duration": 17,
    "start_time": "2021-07-24T10:41:23.034Z"
   },
   {
    "duration": 16,
    "start_time": "2021-07-24T10:41:23.053Z"
   },
   {
    "duration": 20,
    "start_time": "2021-07-24T10:41:23.083Z"
   },
   {
    "duration": 197,
    "start_time": "2021-07-24T10:41:23.186Z"
   },
   {
    "duration": 101,
    "start_time": "2021-07-24T10:41:23.386Z"
   },
   {
    "duration": 95,
    "start_time": "2021-07-24T10:41:23.489Z"
   },
   {
    "duration": 26,
    "start_time": "2021-07-24T10:41:23.586Z"
   },
   {
    "duration": 67,
    "start_time": "2021-07-24T10:41:23.615Z"
   },
   {
    "duration": 4,
    "start_time": "2021-07-24T10:41:23.685Z"
   },
   {
    "duration": 31,
    "start_time": "2021-07-24T10:41:23.692Z"
   },
   {
    "duration": 15,
    "start_time": "2021-07-24T10:41:23.725Z"
   },
   {
    "duration": 12,
    "start_time": "2021-07-24T10:41:23.742Z"
   },
   {
    "duration": 25,
    "start_time": "2021-07-24T10:41:23.758Z"
   },
   {
    "duration": 7,
    "start_time": "2021-07-24T10:41:23.785Z"
   },
   {
    "duration": 4742,
    "start_time": "2021-07-24T10:41:23.794Z"
   },
   {
    "duration": 4783,
    "start_time": "2021-07-24T10:41:28.538Z"
   },
   {
    "duration": 4663,
    "start_time": "2021-07-24T10:41:33.323Z"
   },
   {
    "duration": 7,
    "start_time": "2021-07-24T10:41:40.721Z"
   },
   {
    "duration": 1554,
    "start_time": "2021-07-24T10:41:41.137Z"
   },
   {
    "duration": 7,
    "start_time": "2021-07-24T10:41:49.878Z"
   },
   {
    "duration": 4713,
    "start_time": "2021-07-24T10:41:50.278Z"
   },
   {
    "duration": 7,
    "start_time": "2021-07-24T10:41:59.966Z"
   },
   {
    "duration": 1846,
    "start_time": "2021-07-24T10:42:00.312Z"
   },
   {
    "duration": 1108,
    "start_time": "2021-07-24T10:42:42.516Z"
   },
   {
    "duration": 7,
    "start_time": "2021-07-24T10:42:46.690Z"
   },
   {
    "duration": 4695,
    "start_time": "2021-07-24T10:42:46.914Z"
   },
   {
    "duration": 374,
    "start_time": "2021-07-24T10:44:06.067Z"
   },
   {
    "duration": 7,
    "start_time": "2021-07-24T10:44:11.694Z"
   },
   {
    "duration": 8,
    "start_time": "2021-07-24T10:45:05.232Z"
   },
   {
    "duration": 7,
    "start_time": "2021-07-24T10:45:05.568Z"
   },
   {
    "duration": 5724,
    "start_time": "2021-07-24T10:45:10.784Z"
   },
   {
    "duration": 6628,
    "start_time": "2021-07-24T10:45:23.771Z"
   },
   {
    "duration": 5782,
    "start_time": "2021-07-24T10:45:30.401Z"
   },
   {
    "duration": 8,
    "start_time": "2021-07-24T10:45:47.996Z"
   },
   {
    "duration": 12088,
    "start_time": "2021-07-24T10:45:48.498Z"
   },
   {
    "duration": 7,
    "start_time": "2021-07-24T10:46:12.323Z"
   },
   {
    "duration": 44,
    "start_time": "2021-07-24T10:46:23.644Z"
   },
   {
    "duration": 4741,
    "start_time": "2021-07-24T10:46:23.691Z"
   },
   {
    "duration": 7,
    "start_time": "2021-07-24T10:53:48.364Z"
   },
   {
    "duration": 6396,
    "start_time": "2021-07-24T10:53:49.138Z"
   },
   {
    "duration": 6358,
    "start_time": "2021-07-24T10:53:58.883Z"
   },
   {
    "duration": 6666,
    "start_time": "2021-07-24T10:54:05.244Z"
   },
   {
    "duration": 7,
    "start_time": "2021-07-24T10:55:18.028Z"
   },
   {
    "duration": 6174,
    "start_time": "2021-07-24T10:55:18.363Z"
   },
   {
    "duration": 6394,
    "start_time": "2021-07-24T10:55:26.700Z"
   },
   {
    "duration": 6289,
    "start_time": "2021-07-24T10:55:33.096Z"
   },
   {
    "duration": 8,
    "start_time": "2021-07-24T10:56:12.873Z"
   },
   {
    "duration": 6671,
    "start_time": "2021-07-24T10:56:13.072Z"
   },
   {
    "duration": 5,
    "start_time": "2021-07-24T10:58:06.083Z"
   },
   {
    "duration": 13,
    "start_time": "2021-07-24T10:58:06.477Z"
   },
   {
    "duration": 13,
    "start_time": "2021-07-24T10:58:06.730Z"
   },
   {
    "duration": 14,
    "start_time": "2021-07-24T10:58:07.115Z"
   },
   {
    "duration": 6,
    "start_time": "2021-07-24T10:58:09.844Z"
   },
   {
    "duration": 8,
    "start_time": "2021-07-24T10:58:09.853Z"
   },
   {
    "duration": 6618,
    "start_time": "2021-07-24T10:58:11.547Z"
   },
   {
    "duration": 7,
    "start_time": "2021-07-24T10:58:50.757Z"
   },
   {
    "duration": 6497,
    "start_time": "2021-07-24T10:58:50.996Z"
   },
   {
    "duration": 8,
    "start_time": "2021-07-24T10:59:20.288Z"
   },
   {
    "duration": 6733,
    "start_time": "2021-07-24T10:59:20.482Z"
   },
   {
    "duration": 13,
    "start_time": "2021-07-24T11:00:04.479Z"
   },
   {
    "duration": 18,
    "start_time": "2021-07-24T11:00:21.889Z"
   },
   {
    "duration": 7,
    "start_time": "2021-07-24T11:01:05.742Z"
   },
   {
    "duration": 18,
    "start_time": "2021-07-24T11:01:06.544Z"
   },
   {
    "duration": 17926,
    "start_time": "2021-07-24T11:01:07.038Z"
   },
   {
    "duration": 411,
    "start_time": "2021-07-24T11:08:47.683Z"
   },
   {
    "duration": 400,
    "start_time": "2021-07-24T11:08:47.696Z"
   },
   {
    "duration": 9,
    "start_time": "2021-07-24T11:08:57.938Z"
   },
   {
    "duration": 20,
    "start_time": "2021-07-24T11:08:58.290Z"
   },
   {
    "duration": 17661,
    "start_time": "2021-07-24T11:08:58.730Z"
   },
   {
    "duration": 15896,
    "start_time": "2021-07-24T11:09:32.572Z"
   },
   {
    "duration": 404,
    "start_time": "2021-07-24T11:09:48.067Z"
   },
   {
    "duration": 4,
    "start_time": "2021-07-24T11:10:03.240Z"
   },
   {
    "duration": 371,
    "start_time": "2021-07-24T11:10:11.521Z"
   },
   {
    "duration": 5,
    "start_time": "2021-07-24T11:10:28.050Z"
   },
   {
    "duration": 9,
    "start_time": "2021-07-24T11:10:42.467Z"
   },
   {
    "duration": 362,
    "start_time": "2021-07-24T11:11:11.968Z"
   },
   {
    "duration": 15,
    "start_time": "2021-07-24T11:11:24.179Z"
   },
   {
    "duration": 18,
    "start_time": "2021-07-24T11:11:43.148Z"
   },
   {
    "duration": 4,
    "start_time": "2021-07-24T11:12:14.062Z"
   },
   {
    "duration": 18,
    "start_time": "2021-07-24T11:12:15.864Z"
   },
   {
    "duration": 5,
    "start_time": "2021-07-24T11:13:03.071Z"
   },
   {
    "duration": 17,
    "start_time": "2021-07-24T11:13:03.974Z"
   },
   {
    "duration": 5,
    "start_time": "2021-07-24T11:13:58.414Z"
   },
   {
    "duration": 22,
    "start_time": "2021-07-24T11:14:00.518Z"
   },
   {
    "duration": 22,
    "start_time": "2021-07-24T11:14:26.587Z"
   },
   {
    "duration": 20,
    "start_time": "2021-07-24T11:14:34.825Z"
   },
   {
    "duration": 17,
    "start_time": "2021-07-24T11:14:36.594Z"
   },
   {
    "duration": 18,
    "start_time": "2021-07-24T11:14:37.897Z"
   },
   {
    "duration": 17,
    "start_time": "2021-07-24T11:14:39.379Z"
   },
   {
    "duration": 5,
    "start_time": "2021-07-24T11:17:05.643Z"
   },
   {
    "duration": 25,
    "start_time": "2021-07-24T11:17:08.374Z"
   },
   {
    "duration": 5,
    "start_time": "2021-07-24T11:18:05.323Z"
   },
   {
    "duration": 28,
    "start_time": "2021-07-24T11:18:06.147Z"
   },
   {
    "duration": 6,
    "start_time": "2021-07-24T11:18:26.740Z"
   },
   {
    "duration": 23,
    "start_time": "2021-07-24T11:18:27.990Z"
   },
   {
    "duration": 5,
    "start_time": "2021-07-24T11:18:56.685Z"
   },
   {
    "duration": 24,
    "start_time": "2021-07-24T11:18:59.157Z"
   },
   {
    "duration": 5,
    "start_time": "2021-07-24T11:21:37.322Z"
   },
   {
    "duration": 44,
    "start_time": "2021-07-24T11:21:38.619Z"
   },
   {
    "duration": 5,
    "start_time": "2021-07-24T11:22:05.274Z"
   },
   {
    "duration": 24,
    "start_time": "2021-07-24T11:22:06.050Z"
   },
   {
    "duration": 4,
    "start_time": "2021-07-24T11:22:30.802Z"
   },
   {
    "duration": 12,
    "start_time": "2021-07-24T11:22:31.074Z"
   },
   {
    "duration": 13,
    "start_time": "2021-07-24T11:22:31.778Z"
   },
   {
    "duration": 12,
    "start_time": "2021-07-24T11:22:32.002Z"
   },
   {
    "duration": 4,
    "start_time": "2021-07-24T11:22:32.602Z"
   },
   {
    "duration": 13,
    "start_time": "2021-07-24T11:22:32.867Z"
   },
   {
    "duration": 7,
    "start_time": "2021-07-24T11:24:24.124Z"
   },
   {
    "duration": 5376,
    "start_time": "2021-07-24T11:24:25.507Z"
   },
   {
    "duration": 7,
    "start_time": "2021-07-24T11:24:38.611Z"
   },
   {
    "duration": 4646,
    "start_time": "2021-07-24T11:24:38.850Z"
   },
   {
    "duration": 4882,
    "start_time": "2021-07-24T11:24:49.326Z"
   },
   {
    "duration": 5119,
    "start_time": "2021-07-24T11:24:54.210Z"
   },
   {
    "duration": 7,
    "start_time": "2021-07-24T11:25:34.169Z"
   },
   {
    "duration": 4799,
    "start_time": "2021-07-24T11:25:35.018Z"
   },
   {
    "duration": 4836,
    "start_time": "2021-07-24T11:25:46.297Z"
   },
   {
    "duration": 4863,
    "start_time": "2021-07-24T11:25:51.135Z"
   },
   {
    "duration": 8,
    "start_time": "2021-07-24T11:26:51.247Z"
   },
   {
    "duration": 7,
    "start_time": "2021-07-24T11:26:56.082Z"
   },
   {
    "duration": 4664,
    "start_time": "2021-07-24T11:26:56.280Z"
   },
   {
    "duration": 7,
    "start_time": "2021-07-24T11:30:12.895Z"
   },
   {
    "duration": 4592,
    "start_time": "2021-07-24T11:30:13.095Z"
   },
   {
    "duration": 426,
    "start_time": "2021-07-24T11:34:23.428Z"
   },
   {
    "duration": 5,
    "start_time": "2021-07-24T11:34:28.885Z"
   },
   {
    "duration": 7,
    "start_time": "2021-07-24T11:36:12.150Z"
   },
   {
    "duration": 3720,
    "start_time": "2021-07-24T11:36:14.181Z"
   },
   {
    "duration": 4,
    "start_time": "2021-07-24T11:36:53.609Z"
   },
   {
    "duration": 7,
    "start_time": "2021-07-24T11:36:56.024Z"
   },
   {
    "duration": 3402,
    "start_time": "2021-07-24T11:36:56.945Z"
   },
   {
    "duration": 3626,
    "start_time": "2021-07-24T11:37:02.659Z"
   },
   {
    "duration": 3498,
    "start_time": "2021-07-24T11:37:06.288Z"
   },
   {
    "duration": 13,
    "start_time": "2021-07-24T11:38:42.697Z"
   },
   {
    "duration": 13,
    "start_time": "2021-07-24T11:38:43.487Z"
   },
   {
    "duration": 14,
    "start_time": "2021-07-24T11:38:43.712Z"
   },
   {
    "duration": 3386,
    "start_time": "2021-07-24T11:38:49.408Z"
   },
   {
    "duration": 4,
    "start_time": "2021-07-24T11:41:16.011Z"
   },
   {
    "duration": 12,
    "start_time": "2021-07-24T11:41:16.206Z"
   },
   {
    "duration": 7,
    "start_time": "2021-07-24T11:41:23.159Z"
   },
   {
    "duration": 646,
    "start_time": "2021-07-24T11:41:23.566Z"
   },
   {
    "duration": 8,
    "start_time": "2021-07-24T11:41:32.773Z"
   },
   {
    "duration": 5869,
    "start_time": "2021-07-24T11:41:33.015Z"
   },
   {
    "duration": 327,
    "start_time": "2021-07-24T11:42:48.542Z"
   },
   {
    "duration": 5,
    "start_time": "2021-07-24T11:42:53.966Z"
   },
   {
    "duration": 12,
    "start_time": "2021-07-24T11:43:10.758Z"
   },
   {
    "duration": 23,
    "start_time": "2021-07-24T11:43:53.886Z"
   },
   {
    "duration": 7,
    "start_time": "2021-07-24T11:56:18.471Z"
   },
   {
    "duration": 5935,
    "start_time": "2021-07-24T11:56:18.695Z"
   },
   {
    "duration": 1086,
    "start_time": "2021-07-24T11:56:24.632Z"
   },
   {
    "duration": 384,
    "start_time": "2021-07-24T11:56:25.337Z"
   },
   {
    "duration": 5873,
    "start_time": "2021-07-24T11:56:34.627Z"
   },
   {
    "duration": 8,
    "start_time": "2021-07-24T11:56:57.151Z"
   },
   {
    "duration": 6266,
    "start_time": "2021-07-24T11:56:57.656Z"
   },
   {
    "duration": 1713,
    "start_time": "2021-07-24T11:57:03.925Z"
   },
   {
    "duration": 6054,
    "start_time": "2021-07-24T11:57:08.135Z"
   },
   {
    "duration": 4,
    "start_time": "2021-07-24T11:57:34.196Z"
   },
   {
    "duration": 8,
    "start_time": "2021-07-24T11:57:35.771Z"
   },
   {
    "duration": 6813,
    "start_time": "2021-07-24T11:57:37.379Z"
   },
   {
    "duration": 5311,
    "start_time": "2021-07-24T11:57:56.896Z"
   },
   {
    "duration": 6964,
    "start_time": "2021-07-24T11:58:03.855Z"
   },
   {
    "duration": 7,
    "start_time": "2021-07-24T11:59:24.414Z"
   },
   {
    "duration": 3419,
    "start_time": "2021-07-24T11:59:25.238Z"
   },
   {
    "duration": 3425,
    "start_time": "2021-07-24T11:59:29.989Z"
   },
   {
    "duration": 3378,
    "start_time": "2021-07-24T11:59:34.389Z"
   },
   {
    "duration": 4,
    "start_time": "2021-07-24T12:00:08.276Z"
   },
   {
    "duration": 14,
    "start_time": "2021-07-24T12:00:09.855Z"
   },
   {
    "duration": 4,
    "start_time": "2021-07-24T12:00:17.534Z"
   },
   {
    "duration": 13,
    "start_time": "2021-07-24T12:00:17.850Z"
   },
   {
    "duration": 12,
    "start_time": "2021-07-24T12:00:18.774Z"
   },
   {
    "duration": 13,
    "start_time": "2021-07-24T12:00:19.393Z"
   },
   {
    "duration": 5,
    "start_time": "2021-07-24T12:00:21.021Z"
   },
   {
    "duration": 12,
    "start_time": "2021-07-24T12:00:21.261Z"
   },
   {
    "duration": 13,
    "start_time": "2021-07-24T12:00:21.710Z"
   },
   {
    "duration": 14,
    "start_time": "2021-07-24T12:00:21.925Z"
   },
   {
    "duration": 4,
    "start_time": "2021-07-24T12:00:27.404Z"
   },
   {
    "duration": 182,
    "start_time": "2021-07-24T12:00:27.411Z"
   },
   {
    "duration": 826,
    "start_time": "2021-07-24T12:00:27.596Z"
   },
   {
    "duration": 17,
    "start_time": "2021-07-24T12:00:28.425Z"
   },
   {
    "duration": 22,
    "start_time": "2021-07-24T12:00:28.445Z"
   },
   {
    "duration": 5,
    "start_time": "2021-07-24T12:00:28.482Z"
   },
   {
    "duration": 48,
    "start_time": "2021-07-24T12:00:28.489Z"
   },
   {
    "duration": 4,
    "start_time": "2021-07-24T12:00:28.540Z"
   },
   {
    "duration": 49,
    "start_time": "2021-07-24T12:00:28.547Z"
   },
   {
    "duration": 3,
    "start_time": "2021-07-24T12:00:28.599Z"
   },
   {
    "duration": 17,
    "start_time": "2021-07-24T12:00:28.605Z"
   },
   {
    "duration": 17,
    "start_time": "2021-07-24T12:00:28.624Z"
   },
   {
    "duration": 46,
    "start_time": "2021-07-24T12:00:28.643Z"
   },
   {
    "duration": 194,
    "start_time": "2021-07-24T12:00:28.691Z"
   },
   {
    "duration": 105,
    "start_time": "2021-07-24T12:00:28.890Z"
   },
   {
    "duration": 85,
    "start_time": "2021-07-24T12:00:28.999Z"
   },
   {
    "duration": 110,
    "start_time": "2021-07-24T12:00:29.088Z"
   },
   {
    "duration": 6,
    "start_time": "2021-07-24T12:00:29.201Z"
   },
   {
    "duration": 13,
    "start_time": "2021-07-24T12:00:29.210Z"
   },
   {
    "duration": 59,
    "start_time": "2021-07-24T12:00:29.225Z"
   },
   {
    "duration": 15,
    "start_time": "2021-07-24T12:00:29.287Z"
   },
   {
    "duration": 21,
    "start_time": "2021-07-24T12:00:29.304Z"
   },
   {
    "duration": 55,
    "start_time": "2021-07-24T12:00:29.328Z"
   },
   {
    "duration": 5,
    "start_time": "2021-07-24T12:00:29.385Z"
   },
   {
    "duration": 23,
    "start_time": "2021-07-24T12:00:29.392Z"
   },
   {
    "duration": 3483,
    "start_time": "2021-07-24T12:00:29.417Z"
   },
   {
    "duration": 3504,
    "start_time": "2021-07-24T12:00:32.904Z"
   },
   {
    "duration": 3551,
    "start_time": "2021-07-24T12:00:36.411Z"
   },
   {
    "duration": 4,
    "start_time": "2021-07-24T12:00:47.990Z"
   },
   {
    "duration": 12,
    "start_time": "2021-07-24T12:00:48.263Z"
   },
   {
    "duration": 13,
    "start_time": "2021-07-24T12:00:48.718Z"
   },
   {
    "duration": 14,
    "start_time": "2021-07-24T12:00:49.085Z"
   },
   {
    "duration": 5,
    "start_time": "2021-07-24T12:00:50.857Z"
   },
   {
    "duration": 171,
    "start_time": "2021-07-24T12:00:50.864Z"
   },
   {
    "duration": 707,
    "start_time": "2021-07-24T12:00:51.038Z"
   },
   {
    "duration": 35,
    "start_time": "2021-07-24T12:00:51.748Z"
   },
   {
    "duration": 15,
    "start_time": "2021-07-24T12:00:51.786Z"
   },
   {
    "duration": 12,
    "start_time": "2021-07-24T12:00:51.804Z"
   },
   {
    "duration": 47,
    "start_time": "2021-07-24T12:00:51.818Z"
   },
   {
    "duration": 16,
    "start_time": "2021-07-24T12:00:51.869Z"
   },
   {
    "duration": 30,
    "start_time": "2021-07-24T12:00:51.888Z"
   },
   {
    "duration": 3,
    "start_time": "2021-07-24T12:00:51.920Z"
   },
   {
    "duration": 9,
    "start_time": "2021-07-24T12:00:51.926Z"
   },
   {
    "duration": 14,
    "start_time": "2021-07-24T12:00:51.937Z"
   },
   {
    "duration": 127,
    "start_time": "2021-07-24T12:00:51.954Z"
   },
   {
    "duration": 107,
    "start_time": "2021-07-24T12:00:52.085Z"
   },
   {
    "duration": 189,
    "start_time": "2021-07-24T12:00:52.195Z"
   },
   {
    "duration": 96,
    "start_time": "2021-07-24T12:00:52.388Z"
   },
   {
    "duration": 31,
    "start_time": "2021-07-24T12:00:52.487Z"
   },
   {
    "duration": 7,
    "start_time": "2021-07-24T12:00:52.520Z"
   },
   {
    "duration": 11,
    "start_time": "2021-07-24T12:00:52.529Z"
   },
   {
    "duration": 43,
    "start_time": "2021-07-24T12:00:52.542Z"
   },
   {
    "duration": 12,
    "start_time": "2021-07-24T12:00:52.587Z"
   },
   {
    "duration": 13,
    "start_time": "2021-07-24T12:00:52.601Z"
   },
   {
    "duration": 63,
    "start_time": "2021-07-24T12:00:52.618Z"
   },
   {
    "duration": 5,
    "start_time": "2021-07-24T12:00:52.685Z"
   },
   {
    "duration": 8,
    "start_time": "2021-07-24T12:00:52.693Z"
   },
   {
    "duration": 3433,
    "start_time": "2021-07-24T12:00:52.703Z"
   },
   {
    "duration": 3447,
    "start_time": "2021-07-24T12:00:56.139Z"
   },
   {
    "duration": 3569,
    "start_time": "2021-07-24T12:00:59.588Z"
   },
   {
    "duration": 4,
    "start_time": "2021-07-24T12:01:03.666Z"
   },
   {
    "duration": 7,
    "start_time": "2021-07-24T12:01:05.066Z"
   },
   {
    "duration": 3389,
    "start_time": "2021-07-24T12:01:05.930Z"
   },
   {
    "duration": 3552,
    "start_time": "2021-07-24T12:01:14.361Z"
   },
   {
    "duration": 3531,
    "start_time": "2021-07-24T12:01:21.301Z"
   },
   {
    "duration": 3459,
    "start_time": "2021-07-24T12:02:27.861Z"
   },
   {
    "duration": 3667,
    "start_time": "2021-07-24T12:02:31.323Z"
   },
   {
    "duration": 7,
    "start_time": "2021-07-24T12:04:42.153Z"
   },
   {
    "duration": 4785,
    "start_time": "2021-07-24T12:04:43.865Z"
   },
   {
    "duration": 4,
    "start_time": "2021-07-24T12:05:28.754Z"
   },
   {
    "duration": 14,
    "start_time": "2021-07-24T12:05:30.064Z"
   },
   {
    "duration": 13,
    "start_time": "2021-07-24T12:05:30.482Z"
   },
   {
    "duration": 13,
    "start_time": "2021-07-24T12:05:30.826Z"
   },
   {
    "duration": 8,
    "start_time": "2021-07-24T12:05:33.471Z"
   },
   {
    "duration": 4608,
    "start_time": "2021-07-24T12:05:33.728Z"
   },
   {
    "duration": 4682,
    "start_time": "2021-07-24T12:05:38.339Z"
   },
   {
    "duration": 4,
    "start_time": "2021-07-24T12:05:47.814Z"
   },
   {
    "duration": 178,
    "start_time": "2021-07-24T12:05:47.822Z"
   },
   {
    "duration": 719,
    "start_time": "2021-07-24T12:05:48.004Z"
   },
   {
    "duration": 16,
    "start_time": "2021-07-24T12:05:48.726Z"
   },
   {
    "duration": 16,
    "start_time": "2021-07-24T12:05:48.745Z"
   },
   {
    "duration": 44,
    "start_time": "2021-07-24T12:05:48.783Z"
   },
   {
    "duration": 5,
    "start_time": "2021-07-24T12:05:48.832Z"
   },
   {
    "duration": 53,
    "start_time": "2021-07-24T12:05:48.840Z"
   },
   {
    "duration": 4,
    "start_time": "2021-07-24T12:05:48.896Z"
   },
   {
    "duration": 9,
    "start_time": "2021-07-24T12:05:48.903Z"
   },
   {
    "duration": 17,
    "start_time": "2021-07-24T12:05:48.914Z"
   },
   {
    "duration": 149,
    "start_time": "2021-07-24T12:05:48.933Z"
   },
   {
    "duration": 16,
    "start_time": "2021-07-24T12:05:49.084Z"
   },
   {
    "duration": 107,
    "start_time": "2021-07-24T12:05:49.185Z"
   },
   {
    "duration": 90,
    "start_time": "2021-07-24T12:05:49.295Z"
   },
   {
    "duration": 115,
    "start_time": "2021-07-24T12:05:49.389Z"
   },
   {
    "duration": 5,
    "start_time": "2021-07-24T12:05:49.507Z"
   },
   {
    "duration": 7,
    "start_time": "2021-07-24T12:05:49.514Z"
   },
   {
    "duration": 20,
    "start_time": "2021-07-24T12:05:49.523Z"
   },
   {
    "duration": 47,
    "start_time": "2021-07-24T12:05:49.546Z"
   },
   {
    "duration": 13,
    "start_time": "2021-07-24T12:05:49.596Z"
   },
   {
    "duration": 67,
    "start_time": "2021-07-24T12:05:49.615Z"
   },
   {
    "duration": 6,
    "start_time": "2021-07-24T12:05:49.685Z"
   },
   {
    "duration": 8,
    "start_time": "2021-07-24T12:05:49.694Z"
   },
   {
    "duration": 4726,
    "start_time": "2021-07-24T12:05:49.704Z"
   },
   {
    "duration": 4877,
    "start_time": "2021-07-24T12:05:54.432Z"
   },
   {
    "duration": 4746,
    "start_time": "2021-07-24T12:05:59.312Z"
   },
   {
    "duration": 4,
    "start_time": "2021-07-24T12:06:32.086Z"
   },
   {
    "duration": 26,
    "start_time": "2021-07-24T12:06:32.294Z"
   },
   {
    "duration": 13,
    "start_time": "2021-07-24T12:06:36.889Z"
   },
   {
    "duration": 14,
    "start_time": "2021-07-24T12:06:37.350Z"
   },
   {
    "duration": 8,
    "start_time": "2021-07-24T12:06:41.010Z"
   },
   {
    "duration": 4076,
    "start_time": "2021-07-24T12:06:41.230Z"
   },
   {
    "duration": 5,
    "start_time": "2021-07-24T12:06:55.700Z"
   },
   {
    "duration": 12,
    "start_time": "2021-07-24T12:06:55.954Z"
   },
   {
    "duration": 14,
    "start_time": "2021-07-24T12:06:56.578Z"
   },
   {
    "duration": 13,
    "start_time": "2021-07-24T12:06:56.979Z"
   },
   {
    "duration": 5178,
    "start_time": "2021-07-24T12:07:10.520Z"
   },
   {
    "duration": 4794,
    "start_time": "2021-07-24T12:07:15.701Z"
   },
   {
    "duration": 4,
    "start_time": "2021-07-24T12:07:35.199Z"
   },
   {
    "duration": 170,
    "start_time": "2021-07-24T12:07:35.206Z"
   },
   {
    "duration": 713,
    "start_time": "2021-07-24T12:07:35.379Z"
   },
   {
    "duration": 14,
    "start_time": "2021-07-24T12:07:36.095Z"
   },
   {
    "duration": 21,
    "start_time": "2021-07-24T12:07:36.112Z"
   },
   {
    "duration": 61,
    "start_time": "2021-07-24T12:07:36.135Z"
   },
   {
    "duration": 4,
    "start_time": "2021-07-24T12:07:36.198Z"
   },
   {
    "duration": 39,
    "start_time": "2021-07-24T12:07:36.204Z"
   },
   {
    "duration": 4,
    "start_time": "2021-07-24T12:07:36.247Z"
   },
   {
    "duration": 15,
    "start_time": "2021-07-24T12:07:36.254Z"
   },
   {
    "duration": 15,
    "start_time": "2021-07-24T12:07:36.272Z"
   },
   {
    "duration": 96,
    "start_time": "2021-07-24T12:07:36.290Z"
   },
   {
    "duration": 15,
    "start_time": "2021-07-24T12:07:36.482Z"
   },
   {
    "duration": 109,
    "start_time": "2021-07-24T12:07:36.584Z"
   },
   {
    "duration": 185,
    "start_time": "2021-07-24T12:07:36.698Z"
   },
   {
    "duration": 28,
    "start_time": "2021-07-24T12:07:36.885Z"
   },
   {
    "duration": 5,
    "start_time": "2021-07-24T12:07:36.915Z"
   },
   {
    "duration": 8,
    "start_time": "2021-07-24T12:07:36.922Z"
   },
   {
    "duration": 18,
    "start_time": "2021-07-24T12:07:36.932Z"
   },
   {
    "duration": 39,
    "start_time": "2021-07-24T12:07:36.952Z"
   },
   {
    "duration": 12,
    "start_time": "2021-07-24T12:07:36.993Z"
   },
   {
    "duration": 20,
    "start_time": "2021-07-24T12:07:37.007Z"
   },
   {
    "duration": 7,
    "start_time": "2021-07-24T12:07:37.029Z"
   },
   {
    "duration": 4762,
    "start_time": "2021-07-24T12:07:37.039Z"
   },
   {
    "duration": 4945,
    "start_time": "2021-07-24T12:07:41.803Z"
   },
   {
    "duration": 4692,
    "start_time": "2021-07-24T12:07:46.750Z"
   },
   {
    "duration": 7,
    "start_time": "2021-07-24T12:09:28.148Z"
   },
   {
    "duration": 4701,
    "start_time": "2021-07-24T12:09:28.396Z"
   },
   {
    "duration": 3,
    "start_time": "2021-07-24T12:20:02.538Z"
   },
   {
    "duration": 6,
    "start_time": "2021-07-24T16:14:02.718Z"
   },
   {
    "duration": 4,
    "start_time": "2021-07-24T16:14:17.498Z"
   },
   {
    "duration": 179,
    "start_time": "2021-07-24T16:14:17.504Z"
   },
   {
    "duration": 707,
    "start_time": "2021-07-24T16:14:17.686Z"
   },
   {
    "duration": 16,
    "start_time": "2021-07-24T16:14:18.396Z"
   },
   {
    "duration": 21,
    "start_time": "2021-07-24T16:14:18.414Z"
   },
   {
    "duration": 64,
    "start_time": "2021-07-24T16:14:18.437Z"
   },
   {
    "duration": 4,
    "start_time": "2021-07-24T16:14:18.503Z"
   },
   {
    "duration": 14,
    "start_time": "2021-07-24T16:14:18.511Z"
   },
   {
    "duration": 28,
    "start_time": "2021-07-24T16:14:18.527Z"
   },
   {
    "duration": 16,
    "start_time": "2021-07-24T16:14:18.557Z"
   },
   {
    "duration": 13,
    "start_time": "2021-07-24T16:14:18.576Z"
   },
   {
    "duration": 93,
    "start_time": "2021-07-24T16:14:18.591Z"
   },
   {
    "duration": 104,
    "start_time": "2021-07-24T16:14:18.688Z"
   },
   {
    "duration": 101,
    "start_time": "2021-07-24T16:14:18.795Z"
   },
   {
    "duration": 8,
    "start_time": "2021-07-24T16:14:18.984Z"
   },
   {
    "duration": 103,
    "start_time": "2021-07-24T16:14:18.996Z"
   },
   {
    "duration": 8,
    "start_time": "2021-07-24T16:14:19.101Z"
   },
   {
    "duration": 13,
    "start_time": "2021-07-24T16:14:19.111Z"
   },
   {
    "duration": 28,
    "start_time": "2021-07-24T16:14:19.126Z"
   },
   {
    "duration": 36,
    "start_time": "2021-07-24T16:14:19.156Z"
   },
   {
    "duration": 11,
    "start_time": "2021-07-24T16:14:19.194Z"
   },
   {
    "duration": 9,
    "start_time": "2021-07-24T16:14:19.208Z"
   },
   {
    "duration": 4821,
    "start_time": "2021-07-24T16:14:19.221Z"
   },
   {
    "duration": 4744,
    "start_time": "2021-07-24T16:14:24.045Z"
   },
   {
    "duration": 4848,
    "start_time": "2021-07-24T16:14:28.791Z"
   },
   {
    "duration": 15,
    "start_time": "2021-07-24T16:15:18.954Z"
   },
   {
    "duration": 105,
    "start_time": "2021-07-24T16:16:07.344Z"
   },
   {
    "duration": 6,
    "start_time": "2021-07-24T16:16:11.041Z"
   },
   {
    "duration": 5,
    "start_time": "2021-07-24T16:16:24.796Z"
   },
   {
    "duration": 7,
    "start_time": "2021-07-24T16:16:41.876Z"
   },
   {
    "duration": 5,
    "start_time": "2021-07-24T16:16:48.071Z"
   },
   {
    "duration": 6,
    "start_time": "2021-07-24T16:17:21.724Z"
   },
   {
    "duration": 120,
    "start_time": "2021-07-24T16:17:53.632Z"
   },
   {
    "duration": 6,
    "start_time": "2021-07-24T16:17:57.569Z"
   },
   {
    "duration": 13,
    "start_time": "2021-07-24T16:18:06.384Z"
   },
   {
    "duration": 8,
    "start_time": "2021-07-24T16:20:07.528Z"
   },
   {
    "duration": 4,
    "start_time": "2021-07-24T16:21:35.497Z"
   },
   {
    "duration": 16,
    "start_time": "2021-07-24T16:21:35.701Z"
   },
   {
    "duration": 16,
    "start_time": "2021-07-24T16:21:37.693Z"
   },
   {
    "duration": 15,
    "start_time": "2021-07-24T16:21:38.182Z"
   },
   {
    "duration": 5,
    "start_time": "2021-07-24T16:21:51.817Z"
   },
   {
    "duration": 12,
    "start_time": "2021-07-24T16:21:52.187Z"
   },
   {
    "duration": 13,
    "start_time": "2021-07-24T16:21:53.120Z"
   },
   {
    "duration": 13,
    "start_time": "2021-07-24T16:21:53.476Z"
   },
   {
    "duration": 12,
    "start_time": "2021-07-24T16:22:00.138Z"
   },
   {
    "duration": 5,
    "start_time": "2021-07-24T16:22:04.113Z"
   },
   {
    "duration": 13,
    "start_time": "2021-07-24T16:22:04.434Z"
   },
   {
    "duration": 14,
    "start_time": "2021-07-24T16:22:07.889Z"
   },
   {
    "duration": 13,
    "start_time": "2021-07-24T16:22:09.953Z"
   },
   {
    "duration": 7,
    "start_time": "2021-07-24T16:25:40.167Z"
   },
   {
    "duration": 6,
    "start_time": "2021-07-24T16:25:43.694Z"
   },
   {
    "duration": 5,
    "start_time": "2021-07-24T16:25:56.946Z"
   },
   {
    "duration": 5,
    "start_time": "2021-07-24T16:25:58.218Z"
   },
   {
    "duration": 19,
    "start_time": "2021-07-24T16:25:58.491Z"
   },
   {
    "duration": 17,
    "start_time": "2021-07-24T16:25:59.784Z"
   },
   {
    "duration": 18,
    "start_time": "2021-07-24T16:26:00.202Z"
   },
   {
    "duration": 4,
    "start_time": "2021-07-24T16:26:09.900Z"
   },
   {
    "duration": 714,
    "start_time": "2021-07-24T16:26:10.058Z"
   },
   {
    "duration": 4,
    "start_time": "2021-07-24T16:29:00.645Z"
   },
   {
    "duration": 703,
    "start_time": "2021-07-24T16:29:00.837Z"
   },
   {
    "duration": 5,
    "start_time": "2021-07-24T16:29:08.429Z"
   },
   {
    "duration": 16,
    "start_time": "2021-07-24T16:29:09.510Z"
   },
   {
    "duration": 17,
    "start_time": "2021-07-24T16:29:09.733Z"
   },
   {
    "duration": 115,
    "start_time": "2021-07-24T16:29:10.069Z"
   },
   {
    "duration": 14,
    "start_time": "2021-07-24T16:29:12.782Z"
   },
   {
    "duration": 4,
    "start_time": "2021-07-24T16:29:14.391Z"
   },
   {
    "duration": 4,
    "start_time": "2021-07-24T16:29:20.001Z"
   },
   {
    "duration": 13,
    "start_time": "2021-07-24T16:29:20.294Z"
   },
   {
    "duration": 5,
    "start_time": "2021-07-24T16:30:41.944Z"
   },
   {
    "duration": 8,
    "start_time": "2021-07-24T16:30:48.553Z"
   },
   {
    "duration": 5,
    "start_time": "2021-07-24T16:31:17.024Z"
   },
   {
    "duration": 6,
    "start_time": "2021-07-24T16:31:17.477Z"
   },
   {
    "duration": 57,
    "start_time": "2021-07-24T16:31:17.726Z"
   },
   {
    "duration": 6,
    "start_time": "2021-07-24T16:31:25.670Z"
   },
   {
    "duration": 334,
    "start_time": "2021-07-24T16:32:10.438Z"
   },
   {
    "duration": 338,
    "start_time": "2021-07-24T16:32:17.495Z"
   },
   {
    "duration": 7,
    "start_time": "2021-07-24T16:32:23.966Z"
   },
   {
    "duration": 5,
    "start_time": "2021-07-24T17:52:15.872Z"
   },
   {
    "duration": 5,
    "start_time": "2021-07-24T17:52:16.226Z"
   },
   {
    "duration": 785,
    "start_time": "2021-07-24T17:52:16.506Z"
   },
   {
    "duration": 6,
    "start_time": "2021-07-24T17:52:23.043Z"
   },
   {
    "duration": 5,
    "start_time": "2021-07-24T17:52:23.242Z"
   },
   {
    "duration": 17,
    "start_time": "2021-07-24T17:52:23.691Z"
   },
   {
    "duration": 6,
    "start_time": "2021-07-24T17:52:39.150Z"
   },
   {
    "duration": 6,
    "start_time": "2021-07-24T17:52:39.391Z"
   },
   {
    "duration": 55,
    "start_time": "2021-07-24T17:52:39.630Z"
   },
   {
    "duration": 77,
    "start_time": "2021-07-24T17:52:42.214Z"
   },
   {
    "duration": 18,
    "start_time": "2021-07-24T17:52:42.484Z"
   },
   {
    "duration": 4,
    "start_time": "2021-07-24T17:54:45.686Z"
   },
   {
    "duration": 162,
    "start_time": "2021-07-24T17:55:48.950Z"
   },
   {
    "duration": 105,
    "start_time": "2021-07-24T17:58:16.553Z"
   },
   {
    "duration": 325,
    "start_time": "2021-07-24T17:58:35.982Z"
   },
   {
    "duration": 121,
    "start_time": "2021-07-24T17:58:55.915Z"
   },
   {
    "duration": 362,
    "start_time": "2021-07-24T17:59:15.791Z"
   },
   {
    "duration": 4,
    "start_time": "2021-07-24T17:59:44.770Z"
   },
   {
    "duration": 359,
    "start_time": "2021-07-25T06:57:11.536Z"
   },
   {
    "duration": 1010,
    "start_time": "2021-07-25T06:57:15.780Z"
   },
   {
    "duration": 134,
    "start_time": "2021-07-25T06:57:16.791Z"
   },
   {
    "duration": 621,
    "start_time": "2021-07-25T06:57:16.927Z"
   },
   {
    "duration": 12,
    "start_time": "2021-07-25T06:57:17.550Z"
   },
   {
    "duration": 11,
    "start_time": "2021-07-25T06:57:17.564Z"
   },
   {
    "duration": 6,
    "start_time": "2021-07-25T06:57:17.576Z"
   },
   {
    "duration": 36,
    "start_time": "2021-07-25T06:57:17.584Z"
   },
   {
    "duration": 18,
    "start_time": "2021-07-25T06:57:17.623Z"
   },
   {
    "duration": 30,
    "start_time": "2021-07-25T06:57:17.643Z"
   },
   {
    "duration": 2,
    "start_time": "2021-07-25T06:57:17.675Z"
   },
   {
    "duration": 7,
    "start_time": "2021-07-25T06:57:17.679Z"
   },
   {
    "duration": 7,
    "start_time": "2021-07-25T06:57:17.688Z"
   },
   {
    "duration": 49,
    "start_time": "2021-07-25T06:57:17.697Z"
   },
   {
    "duration": 108,
    "start_time": "2021-07-25T06:57:17.748Z"
   },
   {
    "duration": 102,
    "start_time": "2021-07-25T06:57:17.944Z"
   },
   {
    "duration": 92,
    "start_time": "2021-07-25T06:57:18.048Z"
   },
   {
    "duration": 6,
    "start_time": "2021-07-25T06:57:18.142Z"
   },
   {
    "duration": 110,
    "start_time": "2021-07-25T06:57:18.150Z"
   },
   {
    "duration": 7,
    "start_time": "2021-07-25T06:57:18.261Z"
   },
   {
    "duration": 8,
    "start_time": "2021-07-25T06:57:18.269Z"
   },
   {
    "duration": 571,
    "start_time": "2021-07-25T06:57:18.279Z"
   },
   {
    "duration": -36,
    "start_time": "2021-07-25T06:57:18.888Z"
   },
   {
    "duration": -37,
    "start_time": "2021-07-25T06:57:18.890Z"
   },
   {
    "duration": -37,
    "start_time": "2021-07-25T06:57:18.891Z"
   },
   {
    "duration": -38,
    "start_time": "2021-07-25T06:57:18.893Z"
   },
   {
    "duration": -38,
    "start_time": "2021-07-25T06:57:18.894Z"
   },
   {
    "duration": -38,
    "start_time": "2021-07-25T06:57:18.895Z"
   },
   {
    "duration": -39,
    "start_time": "2021-07-25T06:57:18.897Z"
   },
   {
    "duration": 4,
    "start_time": "2021-07-25T06:57:30.941Z"
   },
   {
    "duration": 4,
    "start_time": "2021-07-25T06:57:31.823Z"
   },
   {
    "duration": 10,
    "start_time": "2021-07-25T06:57:32.037Z"
   },
   {
    "duration": 11,
    "start_time": "2021-07-25T06:57:32.252Z"
   },
   {
    "duration": 10,
    "start_time": "2021-07-25T06:57:32.661Z"
   },
   {
    "duration": 3,
    "start_time": "2021-07-25T06:57:33.916Z"
   },
   {
    "duration": 3,
    "start_time": "2021-07-25T06:57:34.557Z"
   },
   {
    "duration": 10,
    "start_time": "2021-07-25T06:57:34.940Z"
   },
   {
    "duration": 5,
    "start_time": "2021-07-25T06:57:35.340Z"
   },
   {
    "duration": 3,
    "start_time": "2021-07-25T06:57:36.245Z"
   },
   {
    "duration": 10,
    "start_time": "2021-07-25T06:57:36.469Z"
   },
   {
    "duration": 10,
    "start_time": "2021-07-25T06:57:37.660Z"
   },
   {
    "duration": 10,
    "start_time": "2021-07-25T06:57:37.941Z"
   },
   {
    "duration": 5,
    "start_time": "2021-07-25T06:57:38.621Z"
   },
   {
    "duration": 543,
    "start_time": "2021-07-25T06:57:38.812Z"
   },
   {
    "duration": -29,
    "start_time": "2021-07-25T06:57:39.386Z"
   },
   {
    "duration": -30,
    "start_time": "2021-07-25T06:57:39.388Z"
   },
   {
    "duration": 3,
    "start_time": "2021-07-25T06:57:39.849Z"
   },
   {
    "duration": 6,
    "start_time": "2021-07-25T06:59:12.632Z"
   },
   {
    "duration": 5,
    "start_time": "2021-07-25T07:00:46.855Z"
   },
   {
    "duration": 1156,
    "start_time": "2021-07-25T07:00:47.488Z"
   },
   {
    "duration": 1156,
    "start_time": "2021-07-25T07:00:48.944Z"
   },
   {
    "duration": 3,
    "start_time": "2021-07-25T07:00:59.723Z"
   },
   {
    "duration": 10,
    "start_time": "2021-07-25T07:01:00.903Z"
   },
   {
    "duration": 9,
    "start_time": "2021-07-25T07:01:01.314Z"
   },
   {
    "duration": 9,
    "start_time": "2021-07-25T07:01:01.520Z"
   },
   {
    "duration": 6,
    "start_time": "2021-07-25T07:01:02.450Z"
   },
   {
    "duration": 2701,
    "start_time": "2021-07-25T07:01:03.346Z"
   },
   {
    "duration": 2709,
    "start_time": "2021-07-25T07:01:06.050Z"
   },
   {
    "duration": 2743,
    "start_time": "2021-07-25T07:01:08.761Z"
   },
   {
    "duration": 5,
    "start_time": "2021-07-25T07:06:07.772Z"
   },
   {
    "duration": 2662,
    "start_time": "2021-07-25T07:06:12.820Z"
   },
   {
    "duration": 2633,
    "start_time": "2021-07-25T07:06:30.712Z"
   },
   {
    "duration": 2750,
    "start_time": "2021-07-25T07:06:33.347Z"
   },
   {
    "duration": 96,
    "start_time": "2021-07-25T07:07:44.550Z"
   },
   {
    "duration": 6,
    "start_time": "2021-07-25T07:07:44.949Z"
   },
   {
    "duration": 417,
    "start_time": "2021-07-25T07:07:53.774Z"
   },
   {
    "duration": 6,
    "start_time": "2021-07-25T07:07:54.406Z"
   },
   {
    "duration": 2699,
    "start_time": "2021-07-25T07:08:06.642Z"
   },
   {
    "duration": 5,
    "start_time": "2021-07-25T07:08:16.475Z"
   },
   {
    "duration": 7,
    "start_time": "2021-07-25T07:08:18.266Z"
   },
   {
    "duration": 6,
    "start_time": "2021-07-25T07:09:12.379Z"
   },
   {
    "duration": 7,
    "start_time": "2021-07-25T07:09:12.645Z"
   },
   {
    "duration": 6,
    "start_time": "2021-07-25T07:09:18.619Z"
   },
   {
    "duration": 6,
    "start_time": "2021-07-25T07:09:18.855Z"
   },
   {
    "duration": 312,
    "start_time": "2021-07-25T07:09:40.134Z"
   },
   {
    "duration": 6,
    "start_time": "2021-07-25T07:09:40.453Z"
   },
   {
    "duration": 358,
    "start_time": "2021-07-25T07:09:46.502Z"
   },
   {
    "duration": -30,
    "start_time": "2021-07-25T07:09:46.892Z"
   },
   {
    "duration": 6,
    "start_time": "2021-07-25T07:09:51.978Z"
   },
   {
    "duration": 7,
    "start_time": "2021-07-25T07:09:52.194Z"
   },
   {
    "duration": 6,
    "start_time": "2021-07-25T07:10:56.989Z"
   },
   {
    "duration": 6,
    "start_time": "2021-07-25T07:10:57.342Z"
   },
   {
    "duration": 5,
    "start_time": "2021-07-25T07:11:06.961Z"
   },
   {
    "duration": 7,
    "start_time": "2021-07-25T07:11:07.185Z"
   },
   {
    "duration": 8,
    "start_time": "2021-07-25T07:12:09.068Z"
   },
   {
    "duration": 7,
    "start_time": "2021-07-25T07:12:09.306Z"
   },
   {
    "duration": 8,
    "start_time": "2021-07-25T07:12:22.922Z"
   },
   {
    "duration": 8,
    "start_time": "2021-07-25T07:12:23.145Z"
   },
   {
    "duration": 6,
    "start_time": "2021-07-25T10:03:31.178Z"
   },
   {
    "duration": 1416,
    "start_time": "2021-07-25T10:04:14.360Z"
   },
   {
    "duration": 173,
    "start_time": "2021-07-25T10:04:15.779Z"
   },
   {
    "duration": 746,
    "start_time": "2021-07-25T10:04:15.955Z"
   },
   {
    "duration": 16,
    "start_time": "2021-07-25T10:04:16.704Z"
   },
   {
    "duration": 15,
    "start_time": "2021-07-25T10:04:16.722Z"
   },
   {
    "duration": 9,
    "start_time": "2021-07-25T10:04:16.739Z"
   },
   {
    "duration": 74,
    "start_time": "2021-07-25T10:04:16.750Z"
   },
   {
    "duration": 5,
    "start_time": "2021-07-25T10:04:16.828Z"
   },
   {
    "duration": 46,
    "start_time": "2021-07-25T10:04:16.836Z"
   },
   {
    "duration": 4,
    "start_time": "2021-07-25T10:04:16.885Z"
   },
   {
    "duration": 7,
    "start_time": "2021-07-25T10:04:16.891Z"
   },
   {
    "duration": 9,
    "start_time": "2021-07-25T10:04:16.900Z"
   },
   {
    "duration": 77,
    "start_time": "2021-07-25T10:04:16.911Z"
   },
   {
    "duration": 107,
    "start_time": "2021-07-25T10:04:16.991Z"
   },
   {
    "duration": 189,
    "start_time": "2021-07-25T10:04:17.100Z"
   },
   {
    "duration": 93,
    "start_time": "2021-07-25T10:04:17.293Z"
   },
   {
    "duration": 5,
    "start_time": "2021-07-25T10:04:17.389Z"
   },
   {
    "duration": 97,
    "start_time": "2021-07-25T10:04:17.396Z"
   },
   {
    "duration": 5,
    "start_time": "2021-07-25T10:04:17.495Z"
   },
   {
    "duration": 8,
    "start_time": "2021-07-25T10:04:17.502Z"
   },
   {
    "duration": 17,
    "start_time": "2021-07-25T10:04:17.512Z"
   },
   {
    "duration": 57,
    "start_time": "2021-07-25T10:04:17.531Z"
   },
   {
    "duration": 13,
    "start_time": "2021-07-25T10:04:17.592Z"
   },
   {
    "duration": 7,
    "start_time": "2021-07-25T10:04:17.607Z"
   },
   {
    "duration": 5052,
    "start_time": "2021-07-25T10:04:17.616Z"
   },
   {
    "duration": 5112,
    "start_time": "2021-07-25T10:04:22.670Z"
   },
   {
    "duration": 5080,
    "start_time": "2021-07-25T10:04:27.785Z"
   },
   {
    "duration": 12,
    "start_time": "2021-07-25T10:04:32.883Z"
   },
   {
    "duration": 11,
    "start_time": "2021-07-25T10:04:32.897Z"
   },
   {
    "duration": 4,
    "start_time": "2021-07-25T10:28:15.312Z"
   },
   {
    "duration": 179,
    "start_time": "2021-07-25T10:28:15.319Z"
   },
   {
    "duration": 726,
    "start_time": "2021-07-25T10:28:15.501Z"
   },
   {
    "duration": 16,
    "start_time": "2021-07-25T10:28:16.230Z"
   },
   {
    "duration": 33,
    "start_time": "2021-07-25T10:28:16.249Z"
   },
   {
    "duration": 10,
    "start_time": "2021-07-25T10:28:16.285Z"
   },
   {
    "duration": 43,
    "start_time": "2021-07-25T10:28:16.299Z"
   },
   {
    "duration": 4,
    "start_time": "2021-07-25T10:28:16.345Z"
   },
   {
    "duration": 52,
    "start_time": "2021-07-25T10:28:16.351Z"
   },
   {
    "duration": 3,
    "start_time": "2021-07-25T10:28:16.405Z"
   },
   {
    "duration": 13,
    "start_time": "2021-07-25T10:28:16.411Z"
   },
   {
    "duration": 15,
    "start_time": "2021-07-25T10:28:16.426Z"
   },
   {
    "duration": 49,
    "start_time": "2021-07-25T10:28:16.443Z"
   },
   {
    "duration": 105,
    "start_time": "2021-07-25T10:28:16.586Z"
   },
   {
    "duration": 187,
    "start_time": "2021-07-25T10:28:16.695Z"
   },
   {
    "duration": 6,
    "start_time": "2021-07-25T10:28:16.886Z"
   },
   {
    "duration": 8,
    "start_time": "2021-07-25T10:28:16.983Z"
   },
   {
    "duration": 19,
    "start_time": "2021-07-25T10:28:16.994Z"
   },
   {
    "duration": 5,
    "start_time": "2021-07-25T10:28:17.018Z"
   },
   {
    "duration": 6,
    "start_time": "2021-07-25T10:28:17.026Z"
   },
   {
    "duration": 57,
    "start_time": "2021-07-25T10:28:17.034Z"
   },
   {
    "duration": 13,
    "start_time": "2021-07-25T10:28:17.094Z"
   },
   {
    "duration": 13,
    "start_time": "2021-07-25T10:28:17.110Z"
   },
   {
    "duration": 7,
    "start_time": "2021-07-25T10:28:17.125Z"
   },
   {
    "duration": 5575,
    "start_time": "2021-07-25T10:28:17.134Z"
   },
   {
    "duration": 5098,
    "start_time": "2021-07-25T10:28:22.711Z"
   },
   {
    "duration": 5181,
    "start_time": "2021-07-25T10:28:27.812Z"
   },
   {
    "duration": 11,
    "start_time": "2021-07-25T10:28:32.995Z"
   },
   {
    "duration": 11,
    "start_time": "2021-07-25T10:28:33.008Z"
   }
  ],
  "kernelspec": {
   "display_name": "Python 3",
   "language": "python",
   "name": "python3"
  },
  "language_info": {
   "codemirror_mode": {
    "name": "ipython",
    "version": 3
   },
   "file_extension": ".py",
   "mimetype": "text/x-python",
   "name": "python",
   "nbconvert_exporter": "python",
   "pygments_lexer": "ipython3",
   "version": "3.7.4"
  },
  "toc": {
   "base_numbering": 1,
   "nav_menu": {},
   "number_sections": true,
   "sideBar": true,
   "skip_h1_title": true,
   "title_cell": "Содержание",
   "title_sidebar": "Contents",
   "toc_cell": true,
   "toc_position": {},
   "toc_section_display": true,
   "toc_window_display": false
  }
 },
 "nbformat": 4,
 "nbformat_minor": 2
}
